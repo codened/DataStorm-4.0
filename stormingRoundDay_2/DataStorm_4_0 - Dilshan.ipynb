{
  "cells": [
    {
      "attachments": {},
      "cell_type": "markdown",
      "metadata": {
        "colab_type": "text",
        "id": "view-in-github"
      },
      "source": [
        "<a href=\"https://colab.research.google.com/github/codened/DataStorm-4.0/blob/main/stormingRound/DataStorm_4_0.ipynb\" target=\"_parent\"><img src=\"https://colab.research.google.com/assets/colab-badge.dtreeg\" alt=\"Open In Colab\"/></a>"
      ]
    },
    {
      "cell_type": "markdown",
      "metadata": {
        "id": "kx9iBCyQ2k9z"
      },
      "source": [
        "Path \n",
        "stormingRound/DataStorm_4_0.ipynb"
      ]
    },
    {
      "cell_type": "markdown",
      "metadata": {
        "id": "4wW7bJky-1JT"
      },
      "source": [
        "# Import necessary libraries"
      ]
    },
    {
      "cell_type": "code",
      "execution_count": 1,
      "metadata": {
        "id": "79FVB5FI6Cs2"
      },
      "outputs": [],
      "source": [
        "import numpy as np\n",
        "import pandas as pd\n",
        "from sklearn.cluster import KMeans\n",
        "from sklearn.preprocessing import StandardScaler\n",
        "import seaborn as sns\n",
        "import matplotlib.pyplot as plt"
      ]
    },
    {
      "cell_type": "markdown",
      "metadata": {
        "id": "Be7BxsqWn7E7"
      },
      "source": [
        "# Importing Data Sets"
      ]
    },
    {
      "cell_type": "code",
      "execution_count": 2,
      "metadata": {
        "id": "-Oll2JxA5x9Y"
      },
      "outputs": [],
      "source": [
        "rawHisTransDF=pd.read_csv('Historical-transaction-data.csv')\n",
        "rawStoreInfDF=pd.read_csv('Store-info.csv')\n",
        "rawTestDF=pd.read_csv('Testing-data.csv')"
      ]
    },
    {
      "attachments": {},
      "cell_type": "markdown",
      "metadata": {},
      "source": [
        "#### Viewing Dataframe"
      ]
    },
    {
      "cell_type": "code",
      "execution_count": 3,
      "metadata": {
        "id": "UtD8h2FiSA2r"
      },
      "outputs": [
        {
          "data": {
            "text/html": [
              "<div>\n",
              "<style scoped>\n",
              "    .dataframe tbody tr th:only-of-type {\n",
              "        vertical-align: middle;\n",
              "    }\n",
              "\n",
              "    .dataframe tbody tr th {\n",
              "        vertical-align: top;\n",
              "    }\n",
              "\n",
              "    .dataframe thead th {\n",
              "        text-align: right;\n",
              "    }\n",
              "</style>\n",
              "<table border=\"1\" class=\"dataframe\">\n",
              "  <thead>\n",
              "    <tr style=\"text-align: right;\">\n",
              "      <th></th>\n",
              "      <th>item_description</th>\n",
              "      <th>transaction_date</th>\n",
              "      <th>invoice_id</th>\n",
              "      <th>customer_id</th>\n",
              "      <th>shop_id</th>\n",
              "      <th>item_price</th>\n",
              "      <th>quantity_sold</th>\n",
              "    </tr>\n",
              "  </thead>\n",
              "  <tbody>\n",
              "    <tr>\n",
              "      <th>0</th>\n",
              "      <td>ORANGE BARLEY 1.5L</td>\n",
              "      <td>2021-12-11T00:00:00.000Z</td>\n",
              "      <td>147.0</td>\n",
              "      <td>BGXA</td>\n",
              "      <td>SHOP008</td>\n",
              "      <td>220</td>\n",
              "      <td>2</td>\n",
              "    </tr>\n",
              "    <tr>\n",
              "      <th>1</th>\n",
              "      <td>GINGER BEER 1.5L</td>\n",
              "      <td>2021-10-17T00:00:00.000Z</td>\n",
              "      <td>371.0</td>\n",
              "      <td>IA25</td>\n",
              "      <td>SHOP112</td>\n",
              "      <td>220</td>\n",
              "      <td>2</td>\n",
              "    </tr>\n",
              "    <tr>\n",
              "      <th>2</th>\n",
              "      <td>TONIC PET 500ML</td>\n",
              "      <td>2021-12-13T00:00:00.000Z</td>\n",
              "      <td>484.0</td>\n",
              "      <td>VN7V</td>\n",
              "      <td>SHOP008</td>\n",
              "      <td>160</td>\n",
              "      <td>2</td>\n",
              "    </tr>\n",
              "    <tr>\n",
              "      <th>3</th>\n",
              "      <td>CREAM SODA 1L</td>\n",
              "      <td>2021-12-13T00:00:00.000Z</td>\n",
              "      <td>484.0</td>\n",
              "      <td>VN7V</td>\n",
              "      <td>SHOP008</td>\n",
              "      <td>150</td>\n",
              "      <td>2</td>\n",
              "    </tr>\n",
              "    <tr>\n",
              "      <th>4</th>\n",
              "      <td>STRAWBERRY MILK 180ML</td>\n",
              "      <td>2021-10-23T00:00:00.000Z</td>\n",
              "      <td>1310.0</td>\n",
              "      <td>7S00</td>\n",
              "      <td>SHOP112</td>\n",
              "      <td>210</td>\n",
              "      <td>5</td>\n",
              "    </tr>\n",
              "  </tbody>\n",
              "</table>\n",
              "</div>"
            ],
            "text/plain": [
              "        item_description          transaction_date  invoice_id customer_id  \\\n",
              "0     ORANGE BARLEY 1.5L  2021-12-11T00:00:00.000Z       147.0        BGXA   \n",
              "1       GINGER BEER 1.5L  2021-10-17T00:00:00.000Z       371.0        IA25   \n",
              "2        TONIC PET 500ML  2021-12-13T00:00:00.000Z       484.0        VN7V   \n",
              "3          CREAM SODA 1L  2021-12-13T00:00:00.000Z       484.0        VN7V   \n",
              "4  STRAWBERRY MILK 180ML  2021-10-23T00:00:00.000Z      1310.0        7S00   \n",
              "\n",
              "   shop_id  item_price  quantity_sold  \n",
              "0  SHOP008         220              2  \n",
              "1  SHOP112         220              2  \n",
              "2  SHOP008         160              2  \n",
              "3  SHOP008         150              2  \n",
              "4  SHOP112         210              5  "
            ]
          },
          "execution_count": 3,
          "metadata": {},
          "output_type": "execute_result"
        }
      ],
      "source": [
        "rawHisTransDF.head()"
      ]
    },
    {
      "cell_type": "code",
      "execution_count": 4,
      "metadata": {},
      "outputs": [
        {
          "data": {
            "text/html": [
              "<div>\n",
              "<style scoped>\n",
              "    .dataframe tbody tr th:only-of-type {\n",
              "        vertical-align: middle;\n",
              "    }\n",
              "\n",
              "    .dataframe tbody tr th {\n",
              "        vertical-align: top;\n",
              "    }\n",
              "\n",
              "    .dataframe thead th {\n",
              "        text-align: right;\n",
              "    }\n",
              "</style>\n",
              "<table border=\"1\" class=\"dataframe\">\n",
              "  <thead>\n",
              "    <tr style=\"text-align: right;\">\n",
              "      <th></th>\n",
              "      <th>shop_id</th>\n",
              "      <th>shop_area_sq_ft</th>\n",
              "      <th>shop_profile</th>\n",
              "    </tr>\n",
              "  </thead>\n",
              "  <tbody>\n",
              "    <tr>\n",
              "      <th>0</th>\n",
              "      <td>SHOP047</td>\n",
              "      <td>528</td>\n",
              "      <td>Moderate</td>\n",
              "    </tr>\n",
              "    <tr>\n",
              "      <th>1</th>\n",
              "      <td>SHOP009</td>\n",
              "      <td>676</td>\n",
              "      <td>High</td>\n",
              "    </tr>\n",
              "    <tr>\n",
              "      <th>2</th>\n",
              "      <td>SHOP083</td>\n",
              "      <td>676</td>\n",
              "      <td>Low</td>\n",
              "    </tr>\n",
              "    <tr>\n",
              "      <th>3</th>\n",
              "      <td>SHOP117</td>\n",
              "      <td>676</td>\n",
              "      <td>Low</td>\n",
              "    </tr>\n",
              "    <tr>\n",
              "      <th>4</th>\n",
              "      <td>SHOP042</td>\n",
              "      <td>676</td>\n",
              "      <td>Low</td>\n",
              "    </tr>\n",
              "  </tbody>\n",
              "</table>\n",
              "</div>"
            ],
            "text/plain": [
              "   shop_id  shop_area_sq_ft shop_profile\n",
              "0  SHOP047              528     Moderate\n",
              "1  SHOP009              676         High\n",
              "2  SHOP083              676          Low\n",
              "3  SHOP117              676          Low\n",
              "4  SHOP042              676          Low"
            ]
          },
          "execution_count": 4,
          "metadata": {},
          "output_type": "execute_result"
        }
      ],
      "source": [
        "rawStoreInfDF.head()"
      ]
    },
    {
      "attachments": {},
      "cell_type": "markdown",
      "metadata": {},
      "source": [
        "# Data Pre Processing"
      ]
    },
    {
      "attachments": {},
      "cell_type": "markdown",
      "metadata": {},
      "source": [
        "### Fixing Data"
      ]
    },
    {
      "cell_type": "code",
      "execution_count": 5,
      "metadata": {
        "id": "bnrCJ0o-Sb8v"
      },
      "outputs": [],
      "source": [
        "# convert the date string column to datetime\n",
        "rawHisTransDF['transaction_date'] = pd.to_datetime(rawHisTransDF['transaction_date'], format='%Y/%m/%d').dt.date"
      ]
    },
    {
      "cell_type": "code",
      "execution_count": 6,
      "metadata": {
        "id": "ZFqYaVSyjoBH"
      },
      "outputs": [],
      "source": [
        "# Performing left join\n",
        "merged_df = pd.merge(rawHisTransDF, rawStoreInfDF, on='shop_id', how='left')"
      ]
    },
    {
      "cell_type": "code",
      "execution_count": 7,
      "metadata": {
        "colab": {
          "base_uri": "https://localhost:8080/",
          "height": 483
        },
        "id": "Rb8HF5A2S9eg",
        "outputId": "498e142e-dc75-4bf8-f90a-fb5b8af35d0d"
      },
      "outputs": [
        {
          "data": {
            "text/html": [
              "<div>\n",
              "<style scoped>\n",
              "    .dataframe tbody tr th:only-of-type {\n",
              "        vertical-align: middle;\n",
              "    }\n",
              "\n",
              "    .dataframe tbody tr th {\n",
              "        vertical-align: top;\n",
              "    }\n",
              "\n",
              "    .dataframe thead th {\n",
              "        text-align: right;\n",
              "    }\n",
              "</style>\n",
              "<table border=\"1\" class=\"dataframe\">\n",
              "  <thead>\n",
              "    <tr style=\"text-align: right;\">\n",
              "      <th></th>\n",
              "      <th>count</th>\n",
              "      <th>unique</th>\n",
              "      <th>top</th>\n",
              "      <th>freq</th>\n",
              "      <th>mean</th>\n",
              "      <th>std</th>\n",
              "      <th>min</th>\n",
              "      <th>25%</th>\n",
              "      <th>50%</th>\n",
              "      <th>75%</th>\n",
              "      <th>max</th>\n",
              "    </tr>\n",
              "  </thead>\n",
              "  <tbody>\n",
              "    <tr>\n",
              "      <th>item_description</th>\n",
              "      <td>438046</td>\n",
              "      <td>37</td>\n",
              "      <td>GINGER BEER 1.5L</td>\n",
              "      <td>59864</td>\n",
              "      <td>NaN</td>\n",
              "      <td>NaN</td>\n",
              "      <td>NaN</td>\n",
              "      <td>NaN</td>\n",
              "      <td>NaN</td>\n",
              "      <td>NaN</td>\n",
              "      <td>NaN</td>\n",
              "    </tr>\n",
              "    <tr>\n",
              "      <th>transaction_date</th>\n",
              "      <td>473974</td>\n",
              "      <td>62</td>\n",
              "      <td>2021-12-11</td>\n",
              "      <td>15125</td>\n",
              "      <td>NaN</td>\n",
              "      <td>NaN</td>\n",
              "      <td>NaN</td>\n",
              "      <td>NaN</td>\n",
              "      <td>NaN</td>\n",
              "      <td>NaN</td>\n",
              "      <td>NaN</td>\n",
              "    </tr>\n",
              "    <tr>\n",
              "      <th>invoice_id</th>\n",
              "      <td>467654.0</td>\n",
              "      <td>NaN</td>\n",
              "      <td>NaN</td>\n",
              "      <td>NaN</td>\n",
              "      <td>1996684.006321</td>\n",
              "      <td>1344594.276666</td>\n",
              "      <td>17.0</td>\n",
              "      <td>1032113.75</td>\n",
              "      <td>2032996.0</td>\n",
              "      <td>3032568.25</td>\n",
              "      <td>8331754.0</td>\n",
              "    </tr>\n",
              "    <tr>\n",
              "      <th>customer_id</th>\n",
              "      <td>473974</td>\n",
              "      <td>191636</td>\n",
              "      <td>RX33</td>\n",
              "      <td>95</td>\n",
              "      <td>NaN</td>\n",
              "      <td>NaN</td>\n",
              "      <td>NaN</td>\n",
              "      <td>NaN</td>\n",
              "      <td>NaN</td>\n",
              "      <td>NaN</td>\n",
              "      <td>NaN</td>\n",
              "    </tr>\n",
              "    <tr>\n",
              "      <th>shop_id</th>\n",
              "      <td>473974</td>\n",
              "      <td>124</td>\n",
              "      <td>SHOP043</td>\n",
              "      <td>6631</td>\n",
              "      <td>NaN</td>\n",
              "      <td>NaN</td>\n",
              "      <td>NaN</td>\n",
              "      <td>NaN</td>\n",
              "      <td>NaN</td>\n",
              "      <td>NaN</td>\n",
              "      <td>NaN</td>\n",
              "    </tr>\n",
              "    <tr>\n",
              "      <th>item_price</th>\n",
              "      <td>473974.0</td>\n",
              "      <td>NaN</td>\n",
              "      <td>NaN</td>\n",
              "      <td>NaN</td>\n",
              "      <td>206.689734</td>\n",
              "      <td>166.764732</td>\n",
              "      <td>35.0</td>\n",
              "      <td>100.0</td>\n",
              "      <td>200.0</td>\n",
              "      <td>220.0</td>\n",
              "      <td>17400.0</td>\n",
              "    </tr>\n",
              "    <tr>\n",
              "      <th>quantity_sold</th>\n",
              "      <td>473974.0</td>\n",
              "      <td>NaN</td>\n",
              "      <td>NaN</td>\n",
              "      <td>NaN</td>\n",
              "      <td>1.925506</td>\n",
              "      <td>1.634535</td>\n",
              "      <td>-1.0</td>\n",
              "      <td>1.0</td>\n",
              "      <td>2.0</td>\n",
              "      <td>2.0</td>\n",
              "      <td>101.0</td>\n",
              "    </tr>\n",
              "  </tbody>\n",
              "</table>\n",
              "</div>"
            ],
            "text/plain": [
              "                     count  unique               top   freq            mean  \\\n",
              "item_description    438046      37  GINGER BEER 1.5L  59864             NaN   \n",
              "transaction_date    473974      62        2021-12-11  15125             NaN   \n",
              "invoice_id        467654.0     NaN               NaN    NaN  1996684.006321   \n",
              "customer_id         473974  191636              RX33     95             NaN   \n",
              "shop_id             473974     124           SHOP043   6631             NaN   \n",
              "item_price        473974.0     NaN               NaN    NaN      206.689734   \n",
              "quantity_sold     473974.0     NaN               NaN    NaN        1.925506   \n",
              "\n",
              "                             std   min         25%        50%         75%  \\\n",
              "item_description             NaN   NaN         NaN        NaN         NaN   \n",
              "transaction_date             NaN   NaN         NaN        NaN         NaN   \n",
              "invoice_id        1344594.276666  17.0  1032113.75  2032996.0  3032568.25   \n",
              "customer_id                  NaN   NaN         NaN        NaN         NaN   \n",
              "shop_id                      NaN   NaN         NaN        NaN         NaN   \n",
              "item_price            166.764732  35.0       100.0      200.0       220.0   \n",
              "quantity_sold           1.634535  -1.0         1.0        2.0         2.0   \n",
              "\n",
              "                        max  \n",
              "item_description        NaN  \n",
              "transaction_date        NaN  \n",
              "invoice_id        8331754.0  \n",
              "customer_id             NaN  \n",
              "shop_id                 NaN  \n",
              "item_price          17400.0  \n",
              "quantity_sold         101.0  "
            ]
          },
          "execution_count": 7,
          "metadata": {},
          "output_type": "execute_result"
        }
      ],
      "source": [
        "rawHisTransDF.describe(include='all').T"
      ]
    },
    {
      "cell_type": "code",
      "execution_count": 8,
      "metadata": {},
      "outputs": [
        {
          "name": "stdout",
          "output_type": "stream",
          "text": [
            "item_description    35928\n",
            "transaction_date        0\n",
            "invoice_id           6320\n",
            "customer_id             0\n",
            "shop_id                 0\n",
            "item_price              0\n",
            "quantity_sold           0\n",
            "shop_area_sq_ft         0\n",
            "shop_profile        86633\n",
            "dtype: int64\n"
          ]
        }
      ],
      "source": [
        "# get count of null values in each column\n",
        "null_counts = merged_df.isnull().sum()\n",
        "# print the counts\n",
        "print(null_counts)"
      ]
    },
    {
      "cell_type": "code",
      "execution_count": 9,
      "metadata": {},
      "outputs": [],
      "source": [
        "merged_df.dropna(subset=['item_description','invoice_id'], inplace=True)"
      ]
    },
    {
      "cell_type": "code",
      "execution_count": 10,
      "metadata": {},
      "outputs": [
        {
          "name": "stdout",
          "output_type": "stream",
          "text": [
            "item_description        0\n",
            "transaction_date        0\n",
            "invoice_id              0\n",
            "customer_id             0\n",
            "shop_id                 0\n",
            "item_price              0\n",
            "quantity_sold           0\n",
            "shop_area_sq_ft         0\n",
            "shop_profile        79471\n",
            "dtype: int64\n"
          ]
        }
      ],
      "source": [
        "# get count of null values in each column\n",
        "null_counts = merged_df.isnull().sum()\n",
        "# print the counts\n",
        "print(null_counts)"
      ]
    },
    {
      "attachments": {},
      "cell_type": "markdown",
      "metadata": {},
      "source": [
        "### Encoding "
      ]
    },
    {
      "cell_type": "code",
      "execution_count": 11,
      "metadata": {},
      "outputs": [],
      "source": [
        "from sklearn.preprocessing import LabelEncoder\n",
        "\n",
        "le = LabelEncoder()\n",
        "merged_df['item_description'] = le.fit_transform(merged_df['item_description'])\n",
        "merged_df['customer_id'] = le.fit_transform(merged_df['customer_id'])"
      ]
    },
    {
      "cell_type": "code",
      "execution_count": 12,
      "metadata": {},
      "outputs": [
        {
          "name": "stderr",
          "output_type": "stream",
          "text": [
            "C:\\Users\\NADUNK~1\\AppData\\Local\\Temp/ipykernel_26640/2624828608.py:1: FutureWarning: The default value of regex will change from True to False in a future version.\n",
            "  merged_df['shop_id'] = merged_df['shop_id'].str.replace(r'^SHOP', '').astype(int)\n"
          ]
        }
      ],
      "source": [
        "merged_df['shop_id'] = merged_df['shop_id'].str.replace(r'^SHOP', '').astype(int)"
      ]
    },
    {
      "cell_type": "code",
      "execution_count": 13,
      "metadata": {},
      "outputs": [],
      "source": [
        "merged_df['shop_profile'] = merged_df['shop_profile'].replace({'High': 1, 'Moderate': 2, 'Low': 3})\n",
        "merged_df['shop_profile'] = merged_df['shop_profile'].fillna(0.0).astype(int)\n",
        "merged_df['invoice_id'] = merged_df['invoice_id'].astype(int)"
      ]
    },
    {
      "cell_type": "code",
      "execution_count": 14,
      "metadata": {},
      "outputs": [
        {
          "data": {
            "text/html": [
              "<div>\n",
              "<style scoped>\n",
              "    .dataframe tbody tr th:only-of-type {\n",
              "        vertical-align: middle;\n",
              "    }\n",
              "\n",
              "    .dataframe tbody tr th {\n",
              "        vertical-align: top;\n",
              "    }\n",
              "\n",
              "    .dataframe thead th {\n",
              "        text-align: right;\n",
              "    }\n",
              "</style>\n",
              "<table border=\"1\" class=\"dataframe\">\n",
              "  <thead>\n",
              "    <tr style=\"text-align: right;\">\n",
              "      <th></th>\n",
              "      <th>item_description</th>\n",
              "      <th>transaction_date</th>\n",
              "      <th>invoice_id</th>\n",
              "      <th>customer_id</th>\n",
              "      <th>shop_id</th>\n",
              "      <th>item_price</th>\n",
              "      <th>quantity_sold</th>\n",
              "      <th>shop_area_sq_ft</th>\n",
              "      <th>shop_profile</th>\n",
              "    </tr>\n",
              "  </thead>\n",
              "  <tbody>\n",
              "    <tr>\n",
              "      <th>0</th>\n",
              "      <td>27</td>\n",
              "      <td>2021-12-11</td>\n",
              "      <td>147</td>\n",
              "      <td>57272</td>\n",
              "      <td>8</td>\n",
              "      <td>220</td>\n",
              "      <td>2</td>\n",
              "      <td>678</td>\n",
              "      <td>2</td>\n",
              "    </tr>\n",
              "    <tr>\n",
              "      <th>1</th>\n",
              "      <td>14</td>\n",
              "      <td>2021-10-17</td>\n",
              "      <td>371</td>\n",
              "      <td>91334</td>\n",
              "      <td>112</td>\n",
              "      <td>220</td>\n",
              "      <td>2</td>\n",
              "      <td>668</td>\n",
              "      <td>2</td>\n",
              "    </tr>\n",
              "    <tr>\n",
              "      <th>2</th>\n",
              "      <td>35</td>\n",
              "      <td>2021-12-13</td>\n",
              "      <td>484</td>\n",
              "      <td>158179</td>\n",
              "      <td>8</td>\n",
              "      <td>160</td>\n",
              "      <td>2</td>\n",
              "      <td>678</td>\n",
              "      <td>2</td>\n",
              "    </tr>\n",
              "    <tr>\n",
              "      <th>3</th>\n",
              "      <td>4</td>\n",
              "      <td>2021-12-13</td>\n",
              "      <td>484</td>\n",
              "      <td>158179</td>\n",
              "      <td>8</td>\n",
              "      <td>150</td>\n",
              "      <td>2</td>\n",
              "      <td>678</td>\n",
              "      <td>2</td>\n",
              "    </tr>\n",
              "    <tr>\n",
              "      <th>4</th>\n",
              "      <td>34</td>\n",
              "      <td>2021-10-23</td>\n",
              "      <td>1310</td>\n",
              "      <td>38862</td>\n",
              "      <td>112</td>\n",
              "      <td>210</td>\n",
              "      <td>5</td>\n",
              "      <td>668</td>\n",
              "      <td>2</td>\n",
              "    </tr>\n",
              "    <tr>\n",
              "      <th>...</th>\n",
              "      <td>...</td>\n",
              "      <td>...</td>\n",
              "      <td>...</td>\n",
              "      <td>...</td>\n",
              "      <td>...</td>\n",
              "      <td>...</td>\n",
              "      <td>...</td>\n",
              "      <td>...</td>\n",
              "      <td>...</td>\n",
              "    </tr>\n",
              "    <tr>\n",
              "      <th>473820</th>\n",
              "      <td>13</td>\n",
              "      <td>2021-11-14</td>\n",
              "      <td>8014206</td>\n",
              "      <td>176899</td>\n",
              "      <td>3</td>\n",
              "      <td>60</td>\n",
              "      <td>2</td>\n",
              "      <td>810</td>\n",
              "      <td>1</td>\n",
              "    </tr>\n",
              "    <tr>\n",
              "      <th>473821</th>\n",
              "      <td>1</td>\n",
              "      <td>2021-10-16</td>\n",
              "      <td>8304754</td>\n",
              "      <td>52159</td>\n",
              "      <td>127</td>\n",
              "      <td>35</td>\n",
              "      <td>2</td>\n",
              "      <td>848</td>\n",
              "      <td>1</td>\n",
              "    </tr>\n",
              "    <tr>\n",
              "      <th>473822</th>\n",
              "      <td>14</td>\n",
              "      <td>2021-10-16</td>\n",
              "      <td>8304807</td>\n",
              "      <td>95280</td>\n",
              "      <td>127</td>\n",
              "      <td>220</td>\n",
              "      <td>1</td>\n",
              "      <td>848</td>\n",
              "      <td>1</td>\n",
              "    </tr>\n",
              "    <tr>\n",
              "      <th>473823</th>\n",
              "      <td>1</td>\n",
              "      <td>2021-11-07</td>\n",
              "      <td>8313570</td>\n",
              "      <td>8748</td>\n",
              "      <td>127</td>\n",
              "      <td>35</td>\n",
              "      <td>1</td>\n",
              "      <td>848</td>\n",
              "      <td>1</td>\n",
              "    </tr>\n",
              "    <tr>\n",
              "      <th>473824</th>\n",
              "      <td>3</td>\n",
              "      <td>2021-12-02</td>\n",
              "      <td>8325631</td>\n",
              "      <td>11566</td>\n",
              "      <td>127</td>\n",
              "      <td>220</td>\n",
              "      <td>2</td>\n",
              "      <td>848</td>\n",
              "      <td>1</td>\n",
              "    </tr>\n",
              "  </tbody>\n",
              "</table>\n",
              "<p>432109 rows × 9 columns</p>\n",
              "</div>"
            ],
            "text/plain": [
              "        item_description transaction_date  invoice_id  customer_id  shop_id  \\\n",
              "0                     27       2021-12-11         147        57272        8   \n",
              "1                     14       2021-10-17         371        91334      112   \n",
              "2                     35       2021-12-13         484       158179        8   \n",
              "3                      4       2021-12-13         484       158179        8   \n",
              "4                     34       2021-10-23        1310        38862      112   \n",
              "...                  ...              ...         ...          ...      ...   \n",
              "473820                13       2021-11-14     8014206       176899        3   \n",
              "473821                 1       2021-10-16     8304754        52159      127   \n",
              "473822                14       2021-10-16     8304807        95280      127   \n",
              "473823                 1       2021-11-07     8313570         8748      127   \n",
              "473824                 3       2021-12-02     8325631        11566      127   \n",
              "\n",
              "        item_price  quantity_sold  shop_area_sq_ft  shop_profile  \n",
              "0              220              2              678             2  \n",
              "1              220              2              668             2  \n",
              "2              160              2              678             2  \n",
              "3              150              2              678             2  \n",
              "4              210              5              668             2  \n",
              "...            ...            ...              ...           ...  \n",
              "473820          60              2              810             1  \n",
              "473821          35              2              848             1  \n",
              "473822         220              1              848             1  \n",
              "473823          35              1              848             1  \n",
              "473824         220              2              848             1  \n",
              "\n",
              "[432109 rows x 9 columns]"
            ]
          },
          "execution_count": 14,
          "metadata": {},
          "output_type": "execute_result"
        }
      ],
      "source": [
        "merged_df\n"
      ]
    },
    {
      "attachments": {},
      "cell_type": "markdown",
      "metadata": {},
      "source": [
        "# Feature Engineering"
      ]
    },
    {
      "attachments": {},
      "cell_type": "markdown",
      "metadata": {},
      "source": [
        "## "
      ]
    },
    {
      "cell_type": "code",
      "execution_count": 15,
      "metadata": {},
      "outputs": [
        {
          "name": "stdout",
          "output_type": "stream",
          "text": [
            "        item_description transaction_date  invoice_id  customer_id  shop_id  \\\n",
            "54                     5       2021-12-09       24423        70620        3   \n",
            "103                   32       2021-10-31       31745       177679       90   \n",
            "230                    3       2021-12-10       52904        26069       40   \n",
            "273                   24       2021-11-12       59336       154510      103   \n",
            "465                   22       2021-11-10      111021       100682       32   \n",
            "...                  ...              ...         ...          ...      ...   \n",
            "473258                 5       2021-12-04     4363428       108185      113   \n",
            "473355                32       2021-11-21     4479312       154031       62   \n",
            "473412                 0       2021-11-13     4603720        68657       58   \n",
            "473462                35       2021-12-10     4653601        63057       77   \n",
            "473500                11       2021-10-27     4798624        37513      127   \n",
            "\n",
            "        item_price  quantity_sold  shop_area_sq_ft  shop_profile  \n",
            "54             100              0              810             1  \n",
            "103             70              0              730             2  \n",
            "230            220              0              541             2  \n",
            "273            220              0              706             2  \n",
            "465            100              0              707             2  \n",
            "...            ...            ...              ...           ...  \n",
            "473258         100              0              617             2  \n",
            "473355          70              0              495             1  \n",
            "473412          70              0              551             1  \n",
            "473462         160              0              852             1  \n",
            "473500          60              0              848             1  \n",
            "\n",
            "[7862 rows x 9 columns]\n"
          ]
        }
      ],
      "source": [
        "print(merged_df[merged_df['quantity_sold'] == 0])"
      ]
    },
    {
      "cell_type": "code",
      "execution_count": 16,
      "metadata": {},
      "outputs": [
        {
          "name": "stdout",
          "output_type": "stream",
          "text": [
            "        item_description transaction_date  invoice_id  customer_id  shop_id  \\\n",
            "0                     27       2021-12-11         147        57272        8   \n",
            "1                     14       2021-10-17         371        91334      112   \n",
            "2                     35       2021-12-13         484       158179        8   \n",
            "3                      4       2021-12-13         484       158179        8   \n",
            "4                     34       2021-10-23        1310        38862      112   \n",
            "...                  ...              ...         ...          ...      ...   \n",
            "473820                13       2021-11-14     8014206       176899        3   \n",
            "473821                 1       2021-10-16     8304754        52159      127   \n",
            "473822                14       2021-10-16     8304807        95280      127   \n",
            "473823                 1       2021-11-07     8313570         8748      127   \n",
            "473824                 3       2021-12-02     8325631        11566      127   \n",
            "\n",
            "        item_price  quantity_sold  shop_area_sq_ft  shop_profile  \n",
            "0              220              2              678             2  \n",
            "1              220              2              668             2  \n",
            "2              160              2              678             2  \n",
            "3              150              2              678             2  \n",
            "4              210              5              668             2  \n",
            "...            ...            ...              ...           ...  \n",
            "473820          60              2              810             1  \n",
            "473821          35              2              848             1  \n",
            "473822         220              1              848             1  \n",
            "473823          35              1              848             1  \n",
            "473824         220              2              848             1  \n",
            "\n",
            "[424247 rows x 9 columns]\n"
          ]
        }
      ],
      "source": [
        "merged_df = merged_df[merged_df['quantity_sold'] != 0]\n",
        "print(merged_df)"
      ]
    },
    {
      "cell_type": "code",
      "execution_count": null,
      "metadata": {},
      "outputs": [],
      "source": []
    },
    {
      "attachments": {},
      "cell_type": "markdown",
      "metadata": {},
      "source": [
        "# Split To Test and Train Data"
      ]
    },
    {
      "cell_type": "code",
      "execution_count": 17,
      "metadata": {},
      "outputs": [],
      "source": [
        "# Split the DataFrame into two based on column B\n",
        "TestDF = merged_df[merged_df['shop_profile'] == 0].drop(['shop_profile'], axis=1)\n",
        "TrainDF = merged_df[merged_df['shop_profile'] != 0]"
      ]
    },
    {
      "cell_type": "code",
      "execution_count": 18,
      "metadata": {},
      "outputs": [],
      "source": [
        "# Split Fulldata into training and testing sets\n",
        "from sklearn.model_selection import train_test_split\n",
        "\n",
        "column_name = 'shop_id'\n",
        "unique_categories = TrainDF[column_name].nunique()\n",
        "categories_in_dataset_1 = int(unique_categories * 0.8)\n",
        "categories_in_dataset_2 = unique_categories - categories_in_dataset_1\n",
        "dataset_1_categories = TrainDF[column_name].unique()[:categories_in_dataset_1]\n",
        "dataset_2_categories = TrainDF[column_name].unique()[categories_in_dataset_1:]\n",
        "\n",
        "train_data = TrainDF[TrainDF[column_name].isin(dataset_1_categories)]\n",
        "test_data = TrainDF[TrainDF[column_name].isin(dataset_2_categories)]\n",
        "\n",
        "\n",
        "\n",
        "\n",
        "\n",
        "#train_data, test_data = train_test_split(TrainDF, test_size=0.01)"
      ]
    },
    {
      "attachments": {},
      "cell_type": "markdown",
      "metadata": {},
      "source": [
        "#### Random Forest"
      ]
    },
    {
      "cell_type": "code",
      "execution_count": 19,
      "metadata": {},
      "outputs": [
        {
          "name": "stdout",
          "output_type": "stream",
          "text": [
            "0.5346425166825548\n"
          ]
        }
      ],
      "source": [
        "import pandas as pd\n",
        "from sklearn.metrics import accuracy_score\n",
        "from sklearn.ensemble import RandomForestClassifier\n",
        "from sklearn.metrics import f1_score\n",
        "\n",
        "\n",
        "X_train=train_data.drop(['shop_profile','transaction_date'], axis=1)\n",
        "y_train=train_data['shop_profile']\n",
        "X_test= test_data.drop(['shop_profile','transaction_date'], axis=1)\n",
        "y_test=test_data['shop_profile']\n",
        "\n",
        "# Define the logistic regression model\n",
        "model = RandomForestClassifier()\n",
        "\n",
        "# Train the model on the training data\n",
        "model.fit(X_train, y_train)\n",
        "\n",
        "# Make predictions on the testing data\n",
        "predictions = model.predict(X_test)\n",
        "\n",
        "accu = accuracy_score(y_test, predictions)\n",
        "\n",
        "print(accu)\n",
        "# print(f1_score(y_test, predictions, average=None))\n",
        "\n"
      ]
    },
    {
      "cell_type": "code",
      "execution_count": 20,
      "metadata": {},
      "outputs": [
        {
          "name": "stdout",
          "output_type": "stream",
          "text": [
            "Best parameters: {'max_depth': 20, 'min_samples_leaf': 1, 'min_samples_split': 2, 'n_estimators': 50}\n"
          ]
        }
      ],
      "source": [
        "from sklearn.ensemble import RandomForestClassifier\n",
        "from sklearn.model_selection import GridSearchCV\n",
        "# from sklearn.datasets import make_classification\n",
        "import numpy as np\n",
        "\n",
        "# Generate a random dataset\n",
        "# X, y = make_classification(n_samples=1000, n_features=10, n_classes=2, random_state=42)\n",
        "\n",
        "# Define the Random Forest model\n",
        "rf = RandomForestClassifier()\n",
        "\n",
        "# Define the grid of hyperparameters to search over\n",
        "param_grid = {\n",
        "    'n_estimators': [50, 100, 200],\n",
        "    'max_depth': [5, 10, 20],\n",
        "    'min_samples_split': [2, 5, 10],\n",
        "    'min_samples_leaf': [1, 2, 4],\n",
        "}\n",
        "\n",
        "# Use GridSearchCV to find the best hyperparameters\n",
        "grid_search = GridSearchCV(rf, param_grid, cv=5, n_jobs=-1)\n",
        "grid_search.fit(X_train, y_train)\n",
        "\n",
        "# Print the best hyperparameters found\n",
        "print(\"Best parameters:\", grid_search.best_params_)\n"
      ]
    },
    {
      "cell_type": "code",
      "execution_count": 21,
      "metadata": {},
      "outputs": [
        {
          "name": "stdout",
          "output_type": "stream",
          "text": [
            "        shop_id  shop_profile\n",
            "2080         20             2\n",
            "2081         20             2\n",
            "2082        100             2\n",
            "2083        100             2\n",
            "2084        100             2\n",
            "...         ...           ...\n",
            "473818       72             1\n",
            "473821      127             1\n",
            "473822      127             1\n",
            "473823      127             1\n",
            "473824      127             1\n",
            "\n",
            "[78675 rows x 2 columns]\n"
          ]
        }
      ],
      "source": [
        "expectedResult=test_data[['shop_id','shop_profile']]\n",
        "print(expectedResult)"
      ]
    },
    {
      "cell_type": "code",
      "execution_count": 22,
      "metadata": {},
      "outputs": [
        {
          "name": "stdout",
          "output_type": "stream",
          "text": [
            "20\n"
          ]
        }
      ],
      "source": [
        "unique_values = expectedResult['shop_id'].nunique()\n",
        "\n",
        "print(unique_values)"
      ]
    },
    {
      "cell_type": "code",
      "execution_count": 23,
      "metadata": {},
      "outputs": [],
      "source": [
        "predDf=pd.DataFrame(predictions, columns=['shop_profile'])"
      ]
    },
    {
      "cell_type": "code",
      "execution_count": 24,
      "metadata": {},
      "outputs": [
        {
          "data": {
            "text/html": [
              "<div>\n",
              "<style scoped>\n",
              "    .dataframe tbody tr th:only-of-type {\n",
              "        vertical-align: middle;\n",
              "    }\n",
              "\n",
              "    .dataframe tbody tr th {\n",
              "        vertical-align: top;\n",
              "    }\n",
              "\n",
              "    .dataframe thead th {\n",
              "        text-align: right;\n",
              "    }\n",
              "</style>\n",
              "<table border=\"1\" class=\"dataframe\">\n",
              "  <thead>\n",
              "    <tr style=\"text-align: right;\">\n",
              "      <th></th>\n",
              "      <th>item_description</th>\n",
              "      <th>invoice_id</th>\n",
              "      <th>customer_id</th>\n",
              "      <th>shop_id</th>\n",
              "      <th>item_price</th>\n",
              "      <th>quantity_sold</th>\n",
              "      <th>shop_area_sq_ft</th>\n",
              "    </tr>\n",
              "  </thead>\n",
              "  <tbody>\n",
              "    <tr>\n",
              "      <th>2080</th>\n",
              "      <td>32</td>\n",
              "      <td>435236</td>\n",
              "      <td>149483</td>\n",
              "      <td>20</td>\n",
              "      <td>70</td>\n",
              "      <td>2</td>\n",
              "      <td>617</td>\n",
              "    </tr>\n",
              "    <tr>\n",
              "      <th>2081</th>\n",
              "      <td>17</td>\n",
              "      <td>435287</td>\n",
              "      <td>168797</td>\n",
              "      <td>20</td>\n",
              "      <td>100</td>\n",
              "      <td>1</td>\n",
              "      <td>617</td>\n",
              "    </tr>\n",
              "    <tr>\n",
              "      <th>2082</th>\n",
              "      <td>27</td>\n",
              "      <td>435336</td>\n",
              "      <td>70012</td>\n",
              "      <td>100</td>\n",
              "      <td>440</td>\n",
              "      <td>3</td>\n",
              "      <td>617</td>\n",
              "    </tr>\n",
              "    <tr>\n",
              "      <th>2083</th>\n",
              "      <td>3</td>\n",
              "      <td>435336</td>\n",
              "      <td>70012</td>\n",
              "      <td>100</td>\n",
              "      <td>220</td>\n",
              "      <td>1</td>\n",
              "      <td>617</td>\n",
              "    </tr>\n",
              "    <tr>\n",
              "      <th>2084</th>\n",
              "      <td>27</td>\n",
              "      <td>435383</td>\n",
              "      <td>39687</td>\n",
              "      <td>100</td>\n",
              "      <td>220</td>\n",
              "      <td>2</td>\n",
              "      <td>617</td>\n",
              "    </tr>\n",
              "    <tr>\n",
              "      <th>...</th>\n",
              "      <td>...</td>\n",
              "      <td>...</td>\n",
              "      <td>...</td>\n",
              "      <td>...</td>\n",
              "      <td>...</td>\n",
              "      <td>...</td>\n",
              "      <td>...</td>\n",
              "    </tr>\n",
              "    <tr>\n",
              "      <th>473818</th>\n",
              "      <td>1</td>\n",
              "      <td>7030820</td>\n",
              "      <td>124346</td>\n",
              "      <td>72</td>\n",
              "      <td>35</td>\n",
              "      <td>1</td>\n",
              "      <td>617</td>\n",
              "    </tr>\n",
              "    <tr>\n",
              "      <th>473821</th>\n",
              "      <td>1</td>\n",
              "      <td>8304754</td>\n",
              "      <td>52159</td>\n",
              "      <td>127</td>\n",
              "      <td>35</td>\n",
              "      <td>2</td>\n",
              "      <td>848</td>\n",
              "    </tr>\n",
              "    <tr>\n",
              "      <th>473822</th>\n",
              "      <td>14</td>\n",
              "      <td>8304807</td>\n",
              "      <td>95280</td>\n",
              "      <td>127</td>\n",
              "      <td>220</td>\n",
              "      <td>1</td>\n",
              "      <td>848</td>\n",
              "    </tr>\n",
              "    <tr>\n",
              "      <th>473823</th>\n",
              "      <td>1</td>\n",
              "      <td>8313570</td>\n",
              "      <td>8748</td>\n",
              "      <td>127</td>\n",
              "      <td>35</td>\n",
              "      <td>1</td>\n",
              "      <td>848</td>\n",
              "    </tr>\n",
              "    <tr>\n",
              "      <th>473824</th>\n",
              "      <td>3</td>\n",
              "      <td>8325631</td>\n",
              "      <td>11566</td>\n",
              "      <td>127</td>\n",
              "      <td>220</td>\n",
              "      <td>2</td>\n",
              "      <td>848</td>\n",
              "    </tr>\n",
              "  </tbody>\n",
              "</table>\n",
              "<p>78675 rows × 7 columns</p>\n",
              "</div>"
            ],
            "text/plain": [
              "        item_description  invoice_id  customer_id  shop_id  item_price  \\\n",
              "2080                  32      435236       149483       20          70   \n",
              "2081                  17      435287       168797       20         100   \n",
              "2082                  27      435336        70012      100         440   \n",
              "2083                   3      435336        70012      100         220   \n",
              "2084                  27      435383        39687      100         220   \n",
              "...                  ...         ...          ...      ...         ...   \n",
              "473818                 1     7030820       124346       72          35   \n",
              "473821                 1     8304754        52159      127          35   \n",
              "473822                14     8304807        95280      127         220   \n",
              "473823                 1     8313570         8748      127          35   \n",
              "473824                 3     8325631        11566      127         220   \n",
              "\n",
              "        quantity_sold  shop_area_sq_ft  \n",
              "2080                2              617  \n",
              "2081                1              617  \n",
              "2082                3              617  \n",
              "2083                1              617  \n",
              "2084                2              617  \n",
              "...               ...              ...  \n",
              "473818              1              617  \n",
              "473821              2              848  \n",
              "473822              1              848  \n",
              "473823              1              848  \n",
              "473824              2              848  \n",
              "\n",
              "[78675 rows x 7 columns]"
            ]
          },
          "execution_count": 24,
          "metadata": {},
          "output_type": "execute_result"
        }
      ],
      "source": [
        "X_test"
      ]
    },
    {
      "cell_type": "code",
      "execution_count": 25,
      "metadata": {},
      "outputs": [],
      "source": [
        "X_testres = X_test.reset_index(drop=True)"
      ]
    },
    {
      "cell_type": "code",
      "execution_count": 26,
      "metadata": {},
      "outputs": [
        {
          "data": {
            "text/html": [
              "<div>\n",
              "<style scoped>\n",
              "    .dataframe tbody tr th:only-of-type {\n",
              "        vertical-align: middle;\n",
              "    }\n",
              "\n",
              "    .dataframe tbody tr th {\n",
              "        vertical-align: top;\n",
              "    }\n",
              "\n",
              "    .dataframe thead th {\n",
              "        text-align: right;\n",
              "    }\n",
              "</style>\n",
              "<table border=\"1\" class=\"dataframe\">\n",
              "  <thead>\n",
              "    <tr style=\"text-align: right;\">\n",
              "      <th></th>\n",
              "      <th>item_description</th>\n",
              "      <th>invoice_id</th>\n",
              "      <th>customer_id</th>\n",
              "      <th>shop_id</th>\n",
              "      <th>item_price</th>\n",
              "      <th>quantity_sold</th>\n",
              "      <th>shop_area_sq_ft</th>\n",
              "    </tr>\n",
              "  </thead>\n",
              "  <tbody>\n",
              "    <tr>\n",
              "      <th>0</th>\n",
              "      <td>32</td>\n",
              "      <td>435236</td>\n",
              "      <td>149483</td>\n",
              "      <td>20</td>\n",
              "      <td>70</td>\n",
              "      <td>2</td>\n",
              "      <td>617</td>\n",
              "    </tr>\n",
              "    <tr>\n",
              "      <th>1</th>\n",
              "      <td>17</td>\n",
              "      <td>435287</td>\n",
              "      <td>168797</td>\n",
              "      <td>20</td>\n",
              "      <td>100</td>\n",
              "      <td>1</td>\n",
              "      <td>617</td>\n",
              "    </tr>\n",
              "    <tr>\n",
              "      <th>2</th>\n",
              "      <td>27</td>\n",
              "      <td>435336</td>\n",
              "      <td>70012</td>\n",
              "      <td>100</td>\n",
              "      <td>440</td>\n",
              "      <td>3</td>\n",
              "      <td>617</td>\n",
              "    </tr>\n",
              "    <tr>\n",
              "      <th>3</th>\n",
              "      <td>3</td>\n",
              "      <td>435336</td>\n",
              "      <td>70012</td>\n",
              "      <td>100</td>\n",
              "      <td>220</td>\n",
              "      <td>1</td>\n",
              "      <td>617</td>\n",
              "    </tr>\n",
              "    <tr>\n",
              "      <th>4</th>\n",
              "      <td>27</td>\n",
              "      <td>435383</td>\n",
              "      <td>39687</td>\n",
              "      <td>100</td>\n",
              "      <td>220</td>\n",
              "      <td>2</td>\n",
              "      <td>617</td>\n",
              "    </tr>\n",
              "    <tr>\n",
              "      <th>...</th>\n",
              "      <td>...</td>\n",
              "      <td>...</td>\n",
              "      <td>...</td>\n",
              "      <td>...</td>\n",
              "      <td>...</td>\n",
              "      <td>...</td>\n",
              "      <td>...</td>\n",
              "    </tr>\n",
              "    <tr>\n",
              "      <th>78670</th>\n",
              "      <td>1</td>\n",
              "      <td>7030820</td>\n",
              "      <td>124346</td>\n",
              "      <td>72</td>\n",
              "      <td>35</td>\n",
              "      <td>1</td>\n",
              "      <td>617</td>\n",
              "    </tr>\n",
              "    <tr>\n",
              "      <th>78671</th>\n",
              "      <td>1</td>\n",
              "      <td>8304754</td>\n",
              "      <td>52159</td>\n",
              "      <td>127</td>\n",
              "      <td>35</td>\n",
              "      <td>2</td>\n",
              "      <td>848</td>\n",
              "    </tr>\n",
              "    <tr>\n",
              "      <th>78672</th>\n",
              "      <td>14</td>\n",
              "      <td>8304807</td>\n",
              "      <td>95280</td>\n",
              "      <td>127</td>\n",
              "      <td>220</td>\n",
              "      <td>1</td>\n",
              "      <td>848</td>\n",
              "    </tr>\n",
              "    <tr>\n",
              "      <th>78673</th>\n",
              "      <td>1</td>\n",
              "      <td>8313570</td>\n",
              "      <td>8748</td>\n",
              "      <td>127</td>\n",
              "      <td>35</td>\n",
              "      <td>1</td>\n",
              "      <td>848</td>\n",
              "    </tr>\n",
              "    <tr>\n",
              "      <th>78674</th>\n",
              "      <td>3</td>\n",
              "      <td>8325631</td>\n",
              "      <td>11566</td>\n",
              "      <td>127</td>\n",
              "      <td>220</td>\n",
              "      <td>2</td>\n",
              "      <td>848</td>\n",
              "    </tr>\n",
              "  </tbody>\n",
              "</table>\n",
              "<p>78675 rows × 7 columns</p>\n",
              "</div>"
            ],
            "text/plain": [
              "       item_description  invoice_id  customer_id  shop_id  item_price  \\\n",
              "0                    32      435236       149483       20          70   \n",
              "1                    17      435287       168797       20         100   \n",
              "2                    27      435336        70012      100         440   \n",
              "3                     3      435336        70012      100         220   \n",
              "4                    27      435383        39687      100         220   \n",
              "...                 ...         ...          ...      ...         ...   \n",
              "78670                 1     7030820       124346       72          35   \n",
              "78671                 1     8304754        52159      127          35   \n",
              "78672                14     8304807        95280      127         220   \n",
              "78673                 1     8313570         8748      127          35   \n",
              "78674                 3     8325631        11566      127         220   \n",
              "\n",
              "       quantity_sold  shop_area_sq_ft  \n",
              "0                  2              617  \n",
              "1                  1              617  \n",
              "2                  3              617  \n",
              "3                  1              617  \n",
              "4                  2              617  \n",
              "...              ...              ...  \n",
              "78670              1              617  \n",
              "78671              2              848  \n",
              "78672              1              848  \n",
              "78673              1              848  \n",
              "78674              2              848  \n",
              "\n",
              "[78675 rows x 7 columns]"
            ]
          },
          "execution_count": 26,
          "metadata": {},
          "output_type": "execute_result"
        }
      ],
      "source": [
        "X_testres"
      ]
    },
    {
      "cell_type": "code",
      "execution_count": 27,
      "metadata": {},
      "outputs": [],
      "source": [
        "# Concatenate DataFrames\n",
        "concatenatedRes_df = pd.concat([X_testres, predDf], axis=1)"
      ]
    },
    {
      "cell_type": "code",
      "execution_count": 28,
      "metadata": {},
      "outputs": [
        {
          "data": {
            "text/html": [
              "<div>\n",
              "<style scoped>\n",
              "    .dataframe tbody tr th:only-of-type {\n",
              "        vertical-align: middle;\n",
              "    }\n",
              "\n",
              "    .dataframe tbody tr th {\n",
              "        vertical-align: top;\n",
              "    }\n",
              "\n",
              "    .dataframe thead th {\n",
              "        text-align: right;\n",
              "    }\n",
              "</style>\n",
              "<table border=\"1\" class=\"dataframe\">\n",
              "  <thead>\n",
              "    <tr style=\"text-align: right;\">\n",
              "      <th></th>\n",
              "      <th>item_description</th>\n",
              "      <th>invoice_id</th>\n",
              "      <th>customer_id</th>\n",
              "      <th>shop_id</th>\n",
              "      <th>item_price</th>\n",
              "      <th>quantity_sold</th>\n",
              "      <th>shop_area_sq_ft</th>\n",
              "      <th>shop_profile</th>\n",
              "    </tr>\n",
              "  </thead>\n",
              "  <tbody>\n",
              "    <tr>\n",
              "      <th>0</th>\n",
              "      <td>32</td>\n",
              "      <td>435236</td>\n",
              "      <td>149483</td>\n",
              "      <td>20</td>\n",
              "      <td>70</td>\n",
              "      <td>2</td>\n",
              "      <td>617</td>\n",
              "      <td>1</td>\n",
              "    </tr>\n",
              "    <tr>\n",
              "      <th>1</th>\n",
              "      <td>17</td>\n",
              "      <td>435287</td>\n",
              "      <td>168797</td>\n",
              "      <td>20</td>\n",
              "      <td>100</td>\n",
              "      <td>1</td>\n",
              "      <td>617</td>\n",
              "      <td>1</td>\n",
              "    </tr>\n",
              "    <tr>\n",
              "      <th>2</th>\n",
              "      <td>27</td>\n",
              "      <td>435336</td>\n",
              "      <td>70012</td>\n",
              "      <td>100</td>\n",
              "      <td>440</td>\n",
              "      <td>3</td>\n",
              "      <td>617</td>\n",
              "      <td>3</td>\n",
              "    </tr>\n",
              "    <tr>\n",
              "      <th>3</th>\n",
              "      <td>3</td>\n",
              "      <td>435336</td>\n",
              "      <td>70012</td>\n",
              "      <td>100</td>\n",
              "      <td>220</td>\n",
              "      <td>1</td>\n",
              "      <td>617</td>\n",
              "      <td>3</td>\n",
              "    </tr>\n",
              "    <tr>\n",
              "      <th>4</th>\n",
              "      <td>27</td>\n",
              "      <td>435383</td>\n",
              "      <td>39687</td>\n",
              "      <td>100</td>\n",
              "      <td>220</td>\n",
              "      <td>2</td>\n",
              "      <td>617</td>\n",
              "      <td>3</td>\n",
              "    </tr>\n",
              "    <tr>\n",
              "      <th>...</th>\n",
              "      <td>...</td>\n",
              "      <td>...</td>\n",
              "      <td>...</td>\n",
              "      <td>...</td>\n",
              "      <td>...</td>\n",
              "      <td>...</td>\n",
              "      <td>...</td>\n",
              "      <td>...</td>\n",
              "    </tr>\n",
              "    <tr>\n",
              "      <th>78670</th>\n",
              "      <td>1</td>\n",
              "      <td>7030820</td>\n",
              "      <td>124346</td>\n",
              "      <td>72</td>\n",
              "      <td>35</td>\n",
              "      <td>1</td>\n",
              "      <td>617</td>\n",
              "      <td>1</td>\n",
              "    </tr>\n",
              "    <tr>\n",
              "      <th>78671</th>\n",
              "      <td>1</td>\n",
              "      <td>8304754</td>\n",
              "      <td>52159</td>\n",
              "      <td>127</td>\n",
              "      <td>35</td>\n",
              "      <td>2</td>\n",
              "      <td>848</td>\n",
              "      <td>1</td>\n",
              "    </tr>\n",
              "    <tr>\n",
              "      <th>78672</th>\n",
              "      <td>14</td>\n",
              "      <td>8304807</td>\n",
              "      <td>95280</td>\n",
              "      <td>127</td>\n",
              "      <td>220</td>\n",
              "      <td>1</td>\n",
              "      <td>848</td>\n",
              "      <td>1</td>\n",
              "    </tr>\n",
              "    <tr>\n",
              "      <th>78673</th>\n",
              "      <td>1</td>\n",
              "      <td>8313570</td>\n",
              "      <td>8748</td>\n",
              "      <td>127</td>\n",
              "      <td>35</td>\n",
              "      <td>1</td>\n",
              "      <td>848</td>\n",
              "      <td>1</td>\n",
              "    </tr>\n",
              "    <tr>\n",
              "      <th>78674</th>\n",
              "      <td>3</td>\n",
              "      <td>8325631</td>\n",
              "      <td>11566</td>\n",
              "      <td>127</td>\n",
              "      <td>220</td>\n",
              "      <td>2</td>\n",
              "      <td>848</td>\n",
              "      <td>1</td>\n",
              "    </tr>\n",
              "  </tbody>\n",
              "</table>\n",
              "<p>78675 rows × 8 columns</p>\n",
              "</div>"
            ],
            "text/plain": [
              "       item_description  invoice_id  customer_id  shop_id  item_price  \\\n",
              "0                    32      435236       149483       20          70   \n",
              "1                    17      435287       168797       20         100   \n",
              "2                    27      435336        70012      100         440   \n",
              "3                     3      435336        70012      100         220   \n",
              "4                    27      435383        39687      100         220   \n",
              "...                 ...         ...          ...      ...         ...   \n",
              "78670                 1     7030820       124346       72          35   \n",
              "78671                 1     8304754        52159      127          35   \n",
              "78672                14     8304807        95280      127         220   \n",
              "78673                 1     8313570         8748      127          35   \n",
              "78674                 3     8325631        11566      127         220   \n",
              "\n",
              "       quantity_sold  shop_area_sq_ft  shop_profile  \n",
              "0                  2              617             1  \n",
              "1                  1              617             1  \n",
              "2                  3              617             3  \n",
              "3                  1              617             3  \n",
              "4                  2              617             3  \n",
              "...              ...              ...           ...  \n",
              "78670              1              617             1  \n",
              "78671              2              848             1  \n",
              "78672              1              848             1  \n",
              "78673              1              848             1  \n",
              "78674              2              848             1  \n",
              "\n",
              "[78675 rows x 8 columns]"
            ]
          },
          "execution_count": 28,
          "metadata": {},
          "output_type": "execute_result"
        }
      ],
      "source": [
        "concatenatedRes_df"
      ]
    },
    {
      "cell_type": "code",
      "execution_count": 29,
      "metadata": {},
      "outputs": [],
      "source": [
        "ResMode_df = concatenatedRes_df.groupby('shop_id')['shop_profile'].agg(pd.Series.mode)"
      ]
    },
    {
      "cell_type": "code",
      "execution_count": 30,
      "metadata": {},
      "outputs": [
        {
          "data": {
            "text/plain": [
              "shop_id\n",
              "6      3\n",
              "16     1\n",
              "20     1\n",
              "31     3\n",
              "33     1\n",
              "35     2\n",
              "39     2\n",
              "48     3\n",
              "57     2\n",
              "58     3\n",
              "69     3\n",
              "72     3\n",
              "77     1\n",
              "82     3\n",
              "100    3\n",
              "101    3\n",
              "113    2\n",
              "117    2\n",
              "126    1\n",
              "127    1\n",
              "Name: shop_profile, dtype: int32"
            ]
          },
          "execution_count": 30,
          "metadata": {},
          "output_type": "execute_result"
        }
      ],
      "source": [
        "ResMode_df"
      ]
    },
    {
      "cell_type": "code",
      "execution_count": 31,
      "metadata": {},
      "outputs": [],
      "source": [
        "TestMode_df = expectedResult.groupby('shop_id')['shop_profile'].agg(pd.Series.mode)"
      ]
    },
    {
      "cell_type": "code",
      "execution_count": 32,
      "metadata": {},
      "outputs": [
        {
          "data": {
            "text/plain": [
              "shop_id\n",
              "6      3\n",
              "16     1\n",
              "20     2\n",
              "31     2\n",
              "33     1\n",
              "35     2\n",
              "39     2\n",
              "48     2\n",
              "57     2\n",
              "58     1\n",
              "69     3\n",
              "72     1\n",
              "77     1\n",
              "82     1\n",
              "100    2\n",
              "101    1\n",
              "113    2\n",
              "117    3\n",
              "126    2\n",
              "127    1\n",
              "Name: shop_profile, dtype: int32"
            ]
          },
          "execution_count": 32,
          "metadata": {},
          "output_type": "execute_result"
        }
      ],
      "source": [
        "TestMode_df"
      ]
    },
    {
      "cell_type": "code",
      "execution_count": 33,
      "metadata": {},
      "outputs": [
        {
          "name": "stdout",
          "output_type": "stream",
          "text": [
            "F1 score for class 0: 0.57\n",
            "F1 score for class 1: 0.57\n",
            "F1 score for class 2: 0.33\n",
            "Average F1 score: 0.49\n"
          ]
        }
      ],
      "source": [
        "# Calculate F1 score for each class\n",
        "f1_class0 = f1_score(TestMode_df, ResMode_df, labels=[1], average='weighted')\n",
        "f1_class1 = f1_score(TestMode_df, ResMode_df, labels=[2], average='weighted')\n",
        "f1_class2 = f1_score(TestMode_df, ResMode_df, labels=[3], average='weighted')\n",
        "\n",
        "# Calculate average F1 score\n",
        "f1_average = (f1_class0 + f1_class1 + f1_class2) / 3\n",
        "\n",
        "print(f\"F1 score for class 0: {f1_class0:.2f}\")\n",
        "print(f\"F1 score for class 1: {f1_class1:.2f}\")\n",
        "print(f\"F1 score for class 2: {f1_class2:.2f}\")\n",
        "print(f\"Average F1 score: {f1_average:.2f}\")"
      ]
    },
    {
      "cell_type": "code",
      "execution_count": 34,
      "metadata": {},
      "outputs": [
        {
          "data": {
            "image/png": "[encoded data removed]",
            "text/plain": [
              "<Figure size 432x288 with 2 Axes>"
            ]
          },
          "metadata": {
            "needs_background": "light"
          },
          "output_type": "display_data"
        }
      ],
      "source": [
        "import matplotlib.pyplot as plt\n",
        "import seaborn as sns\n",
        "from sklearn.metrics import confusion_matrix\n",
        "\n",
        "# Create confusion matrix\n",
        "matrix = confusion_matrix(TestMode_df, ResMode_df)\n",
        "\n",
        "# Visualize confusion matrix\n",
        "sns.heatmap(matrix, annot=True)\n",
        "plt.show()"
      ]
    },
    {
      "attachments": {},
      "cell_type": "markdown",
      "metadata": {},
      "source": [
        "#### Logistic Regression"
      ]
    },
    {
      "cell_type": "code",
      "execution_count": 35,
      "metadata": {},
      "outputs": [
        {
          "name": "stdout",
          "output_type": "stream",
          "text": [
            "0.37698125198601845\n"
          ]
        }
      ],
      "source": [
        "from sklearn.linear_model import LogisticRegression\n",
        "\n",
        "# Initialize and train model\n",
        "model = LogisticRegression()\n",
        "model.fit(X_train, y_train)\n",
        "\n",
        "# Make predictions on the testing data\n",
        "predictions_logr = model.predict(X_test)\n",
        "\n",
        "accu = accuracy_score(y_test, predictions_logr)\n",
        "\n",
        "print(accu)"
      ]
    },
    {
      "cell_type": "code",
      "execution_count": 36,
      "metadata": {},
      "outputs": [],
      "source": [
        "predDf_logr=pd.DataFrame(predictions_logr, columns=['shop_profile'])"
      ]
    },
    {
      "cell_type": "code",
      "execution_count": 37,
      "metadata": {},
      "outputs": [],
      "source": [
        "# Concatenate DataFrames\n",
        "concatenatedRes_df_logr = pd.concat([X_testres, predDf_logr], axis=1)"
      ]
    },
    {
      "cell_type": "code",
      "execution_count": 38,
      "metadata": {},
      "outputs": [],
      "source": [
        "ResMode_df_logr = concatenatedRes_df_logr.groupby('shop_id')['shop_profile'].agg(pd.Series.mode)"
      ]
    },
    {
      "cell_type": "code",
      "execution_count": 39,
      "metadata": {},
      "outputs": [
        {
          "name": "stdout",
          "output_type": "stream",
          "text": [
            "F1 score for class 0: 0.80\n",
            "F1 score for class 1: 0.00\n",
            "F1 score for class 2: 0.55\n",
            "Average F1 score: 0.45\n"
          ]
        }
      ],
      "source": [
        "# Calculate F1 score for each class\n",
        "f1_class0 = f1_score(TestMode_df, ResMode_df_logr, labels=[1], average='weighted')\n",
        "f1_class1 = f1_score(TestMode_df, ResMode_df_logr, labels=[2], average='weighted')\n",
        "f1_class2 = f1_score(TestMode_df, ResMode_df_logr, labels=[3], average='weighted')\n",
        "\n",
        "# Calculate average F1 score\n",
        "f1_average = (f1_class0 + f1_class1 + f1_class2) / 3\n",
        "\n",
        "print(f\"F1 score for class 0: {f1_class0:.2f}\")\n",
        "print(f\"F1 score for class 1: {f1_class1:.2f}\")\n",
        "print(f\"F1 score for class 2: {f1_class2:.2f}\")\n",
        "print(f\"Average F1 score: {f1_average:.2f}\")"
      ]
    },
    {
      "cell_type": "code",
      "execution_count": 40,
      "metadata": {},
      "outputs": [
        {
          "data": {
            "image/png": "[encoded data removed]",
            "text/plain": [
              "<Figure size 432x288 with 2 Axes>"
            ]
          },
          "metadata": {
            "needs_background": "light"
          },
          "output_type": "display_data"
        }
      ],
      "source": [
        "import matplotlib.pyplot as plt\n",
        "import seaborn as sns\n",
        "from sklearn.metrics import confusion_matrix\n",
        "\n",
        "# Create confusion matrix\n",
        "matrix = confusion_matrix(TestMode_df, ResMode_df_logr)\n",
        "\n",
        "# Visualize confusion matrix\n",
        "sns.heatmap(matrix, annot=True)\n",
        "plt.show()"
      ]
    },
    {
      "attachments": {},
      "cell_type": "markdown",
      "metadata": {},
      "source": [
        "#### Decision Tree"
      ]
    },
    {
      "cell_type": "code",
      "execution_count": 41,
      "metadata": {},
      "outputs": [
        {
          "name": "stdout",
          "output_type": "stream",
          "text": [
            "0.5829806164601208\n"
          ]
        }
      ],
      "source": [
        "from sklearn.tree import DecisionTreeClassifier\n",
        "\n",
        "# Initialize and train model\n",
        "model = DecisionTreeClassifier()\n",
        "model.fit(X_train, y_train)\n",
        "\n",
        "# Make predictions on the testing data\n",
        "predictions_dtree = model.predict(X_test)\n",
        "\n",
        "accu = accuracy_score(y_test, predictions_dtree)\n",
        "\n",
        "print(accu)"
      ]
    },
    {
      "cell_type": "code",
      "execution_count": 42,
      "metadata": {},
      "outputs": [
        {
          "name": "stdout",
          "output_type": "stream",
          "text": [
            "F1 score for class 0: 0.71\n",
            "F1 score for class 1: 0.57\n",
            "F1 score for class 2: 0.33\n",
            "Average F1 score: 0.54\n"
          ]
        },
        {
          "data": {
            "image/png": "[encoded data removed]",
            "text/plain": [
              "<Figure size 432x288 with 2 Axes>"
            ]
          },
          "metadata": {
            "needs_background": "light"
          },
          "output_type": "display_data"
        }
      ],
      "source": [
        "predDf_dtree=pd.DataFrame(predictions_dtree, columns=['shop_profile'])\n",
        "# Concatenate DataFrames\n",
        "concatenatedRes_df_dtree = pd.concat([X_testres, predDf_dtree], axis=1)\n",
        "ResMode_df_dtree = concatenatedRes_df_dtree.groupby('shop_id')['shop_profile'].agg(pd.Series.mode)\n",
        "\n",
        "# Calculate F1 score for each class\n",
        "f1_class0 = f1_score(TestMode_df, ResMode_df_dtree, labels=[1], average='weighted')\n",
        "f1_class1 = f1_score(TestMode_df, ResMode_df_dtree, labels=[2], average='weighted')\n",
        "f1_class2 = f1_score(TestMode_df, ResMode_df_dtree, labels=[3], average='weighted')\n",
        "\n",
        "# Calculate average F1 score\n",
        "f1_average = (f1_class0 + f1_class1 + f1_class2) / 3\n",
        "\n",
        "print(f\"F1 score for class 0: {f1_class0:.2f}\")\n",
        "print(f\"F1 score for class 1: {f1_class1:.2f}\")\n",
        "print(f\"F1 score for class 2: {f1_class2:.2f}\")\n",
        "print(f\"Average F1 score: {f1_average:.2f}\")\n",
        "\n",
        "import matplotlib.pyplot as plt\n",
        "import seaborn as sns\n",
        "from sklearn.metrics import confusion_matrix\n",
        "\n",
        "# Create confusion matrix\n",
        "matrix = confusion_matrix(TestMode_df, ResMode_df_dtree)\n",
        "\n",
        "# Visualize confusion matrix\n",
        "sns.heatmap(matrix, annot=True)\n",
        "plt.show()"
      ]
    },
    {
      "attachments": {},
      "cell_type": "markdown",
      "metadata": {},
      "source": [
        "#### Support Vector"
      ]
    },
    {
      "cell_type": "code",
      "execution_count": 43,
      "metadata": {},
      "outputs": [],
      "source": [
        "# from sklearn.svm import SVC\n",
        "\n",
        "# # Initialize and train model\n",
        "# model = SVC(kernel='linear')\n",
        "# model.fit(X_train, y_train)\n",
        "\n",
        "# # Make predictions on the testing data\n",
        "# predictions_sv = model.predict(X_test)\n",
        "\n",
        "# accu = accuracy_score(y_test, predictions_sv)\n",
        "\n",
        "# print(accu)"
      ]
    },
    {
      "cell_type": "code",
      "execution_count": 44,
      "metadata": {},
      "outputs": [],
      "source": [
        "# predDf_sv=pd.DataFrame(predictions_sv, columns=['shop_profile'])\n",
        "# # Concatenate DataFrames\n",
        "# concatenatedRes_df_sv = pd.concat([X_testres, predDf_sv], axis=1)\n",
        "# ResMode_df_sv = concatenatedRes_df_sv.groupby('shop_id')['shop_profile'].agg(pd.Series.mode)\n",
        "\n",
        "# # Calculate F1 score for each class\n",
        "# f1_class0 = f1_score(TestMode_df, ResMode_df_sv, labels=[1], average='weighted')\n",
        "# f1_class1 = f1_score(TestMode_df, ResMode_df_sv, labels=[2], average='weighted')\n",
        "# f1_class2 = f1_score(TestMode_df, ResMode_df_sv, labels=[3], average='weighted')\n",
        "\n",
        "# # Calculate average F1 score\n",
        "# f1_average = (f1_class0 + f1_class1 + f1_class2) / 3\n",
        "\n",
        "# print(f\"F1 score for class 0: {f1_class0:.2f}\")\n",
        "# print(f\"F1 score for class 1: {f1_class1:.2f}\")\n",
        "# print(f\"F1 score for class 2: {f1_class2:.2f}\")\n",
        "# print(f\"Average F1 score: {f1_average:.2f}\")\n",
        "\n",
        "# import matplotlib.pyplot as plt\n",
        "# import seaborn as sns\n",
        "# from sklearn.metrics import confusion_matrix\n",
        "\n",
        "# # Create confusion matrix\n",
        "# matrix = confusion_matrix(TestMode_df, ResMode_df_sv)\n",
        "\n",
        "# # Visualize confusion matrix\n",
        "# sns.heatmap(matrix, annot=True)\n",
        "# plt.show()"
      ]
    },
    {
      "attachments": {},
      "cell_type": "markdown",
      "metadata": {},
      "source": [
        "#### XGBoost"
      ]
    },
    {
      "cell_type": "code",
      "execution_count": 45,
      "metadata": {},
      "outputs": [
        {
          "ename": "ModuleNotFoundError",
          "evalue": "No module named 'xgboost'",
          "output_type": "error",
          "traceback": [
            "\u001b[1;31m---------------------------------------------------------------------------\u001b[0m",
            "\u001b[1;31mModuleNotFoundError\u001b[0m                       Traceback (most recent call last)",
            "\u001b[1;32mC:\\Users\\NADUNK~1\\AppData\\Local\\Temp/ipykernel_26640/2344005708.py\u001b[0m in \u001b[0;36m<module>\u001b[1;34m\u001b[0m\n\u001b[1;32m----> 1\u001b[1;33m \u001b[1;32mfrom\u001b[0m \u001b[0mxgboost\u001b[0m \u001b[1;32mimport\u001b[0m \u001b[0mXGBClassifier\u001b[0m\u001b[1;33m\u001b[0m\u001b[1;33m\u001b[0m\u001b[0m\n\u001b[0m\u001b[0;32m      2\u001b[0m \u001b[1;33m\u001b[0m\u001b[0m\n\u001b[0;32m      3\u001b[0m \u001b[1;33m\u001b[0m\u001b[0m\n\u001b[0;32m      4\u001b[0m \u001b[0my_train_xg\u001b[0m \u001b[1;33m=\u001b[0m \u001b[0my_train\u001b[0m\u001b[1;33m-\u001b[0m\u001b[1;36m1\u001b[0m\u001b[1;33m\u001b[0m\u001b[1;33m\u001b[0m\u001b[0m\n\u001b[0;32m      5\u001b[0m \u001b[0my_test_xg\u001b[0m \u001b[1;33m=\u001b[0m \u001b[0my_test\u001b[0m\u001b[1;33m-\u001b[0m\u001b[1;36m1\u001b[0m\u001b[1;33m\u001b[0m\u001b[1;33m\u001b[0m\u001b[0m\n",
            "\u001b[1;31mModuleNotFoundError\u001b[0m: No module named 'xgboost'"
          ]
        }
      ],
      "source": [
        "from xgboost import XGBClassifier\n",
        "\n",
        "\n",
        "y_train_xg = y_train-1\n",
        "y_test_xg = y_test-1\n",
        "# Initialize and train model\n",
        "model = XGBClassifier()\n",
        "model.fit(X_train, y_train_xg)\n",
        "\n",
        "# Make predictions on the testing data\n",
        "predictions_xg = model.predict(X_test)\n",
        "\n",
        "accu = accuracy_score(y_test_xg, predictions_xg)\n",
        "\n",
        "print(accu)"
      ]
    },
    {
      "cell_type": "code",
      "execution_count": null,
      "metadata": {},
      "outputs": [],
      "source": [
        "predDf_xg=pd.DataFrame(predictions_xg, columns=['shop_profile'])\n",
        "# Concatenate DataFrames\n",
        "concatenatedRes_df_xg = pd.concat([X_testres, predDf_xg], axis=1)\n",
        "ResMode_df_xg = concatenatedRes_df_xg.groupby('shop_id')['shop_profile'].agg(pd.Series.mode)\n",
        "\n",
        "TestMode_df_xg = TestMode_df-1\n",
        "# Calculate F1 score for each class\n",
        "f1_class0 = f1_score(TestMode_df_xg, ResMode_df_xg, labels=[0], average='weighted')\n",
        "f1_class1 = f1_score(TestMode_df_xg, ResMode_df_xg, labels=[1], average='weighted')\n",
        "f1_class2 = f1_score(TestMode_df_xg, ResMode_df_xg, labels=[2], average='weighted')\n",
        "\n",
        "# Calculate average F1 score\n",
        "f1_average = (f1_class0 + f1_class1 + f1_class2) / 3\n",
        "\n",
        "print(f\"F1 score for class 0: {f1_class0:.2f}\")\n",
        "print(f\"F1 score for class 1: {f1_class1:.2f}\")\n",
        "print(f\"F1 score for class 2: {f1_class2:.2f}\")\n",
        "print(f\"Average F1 score: {f1_average:.2f}\")\n",
        "\n",
        "import matplotlib.pyplot as plt\n",
        "import seaborn as sns\n",
        "from sklearn.metrics import confusion_matrix\n",
        "\n",
        "# Create confusion matrix\n",
        "matrix = confusion_matrix(TestMode_df, ResMode_df_xg)\n",
        "\n",
        "# Visualize confusion matrix\n",
        "sns.heatmap(matrix, annot=True)\n",
        "plt.show()"
      ]
    },
    {
      "attachments": {},
      "cell_type": "markdown",
      "metadata": {},
      "source": [
        "-----------------------------------------------------------------------------------------------------------"
      ]
    },
    {
      "cell_type": "code",
      "execution_count": null,
      "metadata": {},
      "outputs": [],
      "source": [
        "# predict for test values\n",
        "Evalpredictions = model.predict(TestDF.drop(['transaction_date'], axis=1))\n",
        "\n",
        "EvalpredictionsDF=pd.DataFrame(Evalpredictions, columns=['shop_profile'])\n"
      ]
    },
    {
      "cell_type": "code",
      "execution_count": null,
      "metadata": {},
      "outputs": [],
      "source": [
        "EvalpredictionsDF"
      ]
    },
    {
      "cell_type": "code",
      "execution_count": null,
      "metadata": {},
      "outputs": [],
      "source": [
        "TestDFinReseted = TestDF.reset_index(drop=True)\n",
        "# Concatenate DataFrames\n",
        "concatenatedEval_df = pd.concat([TestDFinReseted['shop_id'], EvalpredictionsDF], axis=1)"
      ]
    },
    {
      "cell_type": "code",
      "execution_count": null,
      "metadata": {},
      "outputs": [],
      "source": [
        "EvalMode_df = (concatenatedEval_df.groupby('shop_id')['shop_profile'].agg(pd.Series.mode)).to_frame()"
      ]
    },
    {
      "cell_type": "code",
      "execution_count": null,
      "metadata": {},
      "outputs": [],
      "source": [
        "EvalMode_df"
      ]
    },
    {
      "cell_type": "code",
      "execution_count": null,
      "metadata": {},
      "outputs": [],
      "source": [
        "# Save array to CSV file\n",
        "np.savetxt('EvalResult.csv', EvalMode_df, delimiter=',')\n"
      ]
    },
    {
      "cell_type": "code",
      "execution_count": null,
      "metadata": {},
      "outputs": [],
      "source": [
        "UploadShid=pd.read_csv('Testing-datatoUpload.csv')\n"
      ]
    },
    {
      "cell_type": "code",
      "execution_count": null,
      "metadata": {},
      "outputs": [],
      "source": [
        "UploadShid"
      ]
    },
    {
      "cell_type": "code",
      "execution_count": null,
      "metadata": {},
      "outputs": [],
      "source": [
        "UploadShid['shop_profile'] = UploadShid['shop_profile'].replace({1 : 'High', 2 : 'Moderate',3 : 'Low'})"
      ]
    },
    {
      "cell_type": "code",
      "execution_count": null,
      "metadata": {},
      "outputs": [],
      "source": [
        "UploadShid"
      ]
    },
    {
      "cell_type": "code",
      "execution_count": null,
      "metadata": {},
      "outputs": [],
      "source": [
        "# Save array to CSV file\n",
        "UploadShid.to_csv('Testing-datatoUpload.csv', index=False)\n"
      ]
    },
    {
      "cell_type": "code",
      "execution_count": null,
      "metadata": {},
      "outputs": [],
      "source": [
        "# # Import necessary libraries\n",
        "# import pandas as pd\n",
        "# import numpy as np\n",
        "# import matplotlib.pyplot as plt\n",
        "# from sklearn.model_selection import train_test_split, GridSearchCV, cross_val_score\n",
        "# from sklearn.preprocessing import StandardScaler\n",
        "# from sklearn.linear_model import LogisticRegression\n",
        "# from sklearn.svm import SVC\n",
        "# from sklearn.tree import DecisionTreeClassifier\n",
        "# from sklearn.ensemble import RandomForestClassifier, GradientBoostingClassifier, AdaBoostClassifier, ExtraTreesClassifier\n",
        "# from sklearn.neighbors import KNeighborsClassifier\n",
        "# from sklearn.naive_bayes import GaussianNB\n",
        "# from sklearn.discriminant_analysis import LinearDiscriminantAnalysis\n",
        "\n",
        "# from sklearn.metrics import accuracy_score, confusion_matrix\n",
        "\n",
        "# X_train=train_data.drop(['shop_profile','transaction_date'], axis=1)\n",
        "# y_train=train_data['shop_profile']\n",
        "# X_test= test_data.drop(['shop_profile','transaction_date'], axis=1)\n",
        "# y_test=test_data['shop_profile']\n",
        "\n",
        "# # Create a list of machine learning models to try out\n",
        "# models = []\n",
        "# models.append(('Logistic Regression', LogisticRegression()))\n",
        "# models.append(('SVM', SVC()))\n",
        "# models.append(('Decision Tree', DecisionTreeClassifier()))\n",
        "# models.append(('Random Forest', RandomForestClassifier()))\n",
        "# models.append(('AdaBoost', AdaBoostClassifier()))\n",
        "# models.append(('Extra Trees', ExtraTreesClassifier()))\n",
        "# models.append(('K-Nearest Neighbors', KNeighborsClassifier()))\n",
        "# models.append(('Gaussian Naive Bayes', GaussianNB()))\n",
        "# models.append(('Linear Discriminant Analysis', LinearDiscriminantAnalysis()))\n",
        "# models.append(('Gradient Boosting', GradientBoostingClassifier()))\n",
        "\n",
        "\n",
        "# # Define the hyperparameters to tune for each model\n",
        "# params = {\n",
        "#     'Logistic Regression': {'C': [0.1, 1, 10]},\n",
        "#     'SVM': {'C': [0.1, 1, 10], 'kernel': ['linear', 'rbf']},\n",
        "#     'Decision Tree': {'max_depth': [2, 4, 6]},\n",
        "#     'Random Forest': {'n_estimators': [100, 200, 300], 'max_depth': [2, 4, 6]},    \n",
        "#     'AdaBoost': {'learning_rate': [0.1, 0.01], 'n_estimators': [100, 200, 300]},\n",
        "#     'Extra Trees': {'n_estimators': [100, 200, 300], 'max_depth': [2, 4, 6]},\n",
        "#     'K-Nearest Neighbors': {'n_neighbors': [3, 5, 7]},\n",
        "#     'Gaussian Naive Bayes': {},\n",
        "#     'Linear Discriminant Analysis': {'solver': ['svd', 'lsqr']},\n",
        "#     'Gradient Boosting': {'learning_rate': [0.1, 0.01], 'n_estimators': [100, 200, 300], 'max_depth': [2, 4, 6]}\n",
        "# }\n",
        "\n",
        "# # Train and evaluate each model with hyperparameter tuning\n",
        "# results = []\n",
        "# names = []\n",
        "\n",
        "# accuResults=[]\n",
        "\n",
        "# resultsxxx=[]\n",
        "\n",
        "# for name, model in models:\n",
        "#     param_grid = params[name]\n",
        "#     clf = GridSearchCV(model, param_grid, cv=5)\n",
        "#     clf.fit(X_train, y_train)  # Fit the GridSearchCV object to the training data\n",
        "#     cv_results = cross_val_score(clf, X_train, y_train, cv=5)\n",
        "#     results.append(cv_results)\n",
        "#     names.append(name)\n",
        "\n",
        "#     y_pred = clf.predict(X_test)\n",
        "#     accu = accuracy_score(y_test, y_pred)\n",
        "#     accuResults.append(accu)\n",
        "\n",
        "#     resultsxxx.append(accu*cv_results)\n",
        "\n",
        "#     print(f'{name}: cv : {cv_results.mean()}')\n",
        "#     print(f'{name}: accu : {accu}')\n",
        "#     print(f'Best parameters: {clf.best_params_}')  # Print the best parameters inside the loop\n",
        "\n",
        "\n",
        "# # Select the best model based on mean cross-validation score\n",
        "# best_idx_cv = np.argmax([np.mean(r) for r in results])\n",
        "# best_model_cv = models[best_idx_cv][1]\n",
        "# print(f'Best model from cv mean: {names[best_idx_cv]}')\n",
        "\n",
        "# # Evaluate the best model on the test set\n",
        "# best_model_cv.fit(X_train, y_train)\n",
        "# y_pred = best_model_cv.predict(X_test)\n",
        "# cv_resultscv = cross_val_score(best_model_cv, X_train, y_train, cv=5)\n",
        "# print(f'CV : {cv_resultscv.mean()}')\n",
        "# print(f'Accuracy: {accuracy_score(y_test, y_pred)}')\n",
        "# # Create a confusion matrix to visualize the performance of the model\n",
        "# cm1 = confusion_matrix(y_test, y_pred)\n",
        "# sns.heatmap(cm1, annot=True, cmap='Blues', fmt='g')\n",
        "# plt.xlabel('Predicted')\n",
        "# plt.ylabel('True')\n",
        "# plt.title(f'Confusion Matrix for {best_model_cv}')\n",
        "# plt.show()\n",
        "\n",
        "\n",
        "\n",
        "# # Select the best model based on mean accuracy score\n",
        "# best_idx_acc = np.argmax(accuResults)\n",
        "# best_model_acc = models[best_idx_acc][1]\n",
        "# print(f'Best model from accue Accuracy: {names[best_idx_acc]}')\n",
        "\n",
        "# # Evaluate the best model on the test set\n",
        "# best_model_acc.fit(X_train, y_train)\n",
        "# y_pred = best_model_acc.predict(X_test)\n",
        "# cv_resultsAcc = cross_val_score(best_model_acc, X_train, y_train, cv=5)\n",
        "# print(f'CV : {cv_resultsAcc.mean()}')\n",
        "# print(f'Accuracy: {accuracy_score(y_test, y_pred)}')\n",
        "\n",
        "# # Create a confusion matrix to visualize the performance of the model\n",
        "# cm2 = confusion_matrix(y_test, y_pred)\n",
        "# sns.heatmap(cm2, annot=True, cmap='Blues', fmt='g')\n",
        "# plt.xlabel('Predicted')\n",
        "# plt.ylabel('True')\n",
        "# plt.title(f'Confusion Matrix for {best_model_acc}')\n",
        "# plt.show()\n",
        "\n",
        "\n",
        "\n",
        "\n",
        "# # Select the best model based on mean multiplication\n",
        "# best_id_mul = np.argmax(resultsxxx)\n",
        "# best_model_mul = models[best_id_mul][1]\n",
        "# print(f'Best model from multiplication of two: {names[best_id_mul]}')\n",
        "\n",
        "# # Evaluate the best model on the test set\n",
        "# best_model_mul.fit(X_train, y_train)\n",
        "# y_pred = best_model_mul.predict(X_test)\n",
        "# cv_resultsAcc = cross_val_score(best_model_mul, X_train, y_train, cv=5)\n",
        "# print(f'CV : {cv_resultsAcc.mean()}')\n",
        "# print(f'Accuracy: {accuracy_score(y_test, y_pred)}')\n",
        "# print(f'Mul : {cv_resultsAcc.mean()*accuracy_score(y_test, y_pred)}')\n",
        "\n",
        "# # Create a confusion matrix to visualize the performance of the model\n",
        "# cm3 = confusion_matrix(y_test, y_pred)\n",
        "# sns.heatmap(cm3, annot=True, cmap='Blues', fmt='g')\n",
        "# plt.xlabel('Predicted')\n",
        "# plt.ylabel('True')\n",
        "# plt.title(f'Confusion Matrix for {best_model_mul}')\n",
        "# plt.show()"
      ]
    },
    {
      "cell_type": "markdown",
      "metadata": {},
      "source": []
    }
  ],
  "metadata": {
    "colab": {
      "include_colab_link": true,
      "provenance": []
    },
    "kernelspec": {
      "display_name": "Python 3",
      "name": "python3"
    },
    "language_info": {
      "codemirror_mode": {
        "name": "ipython",
        "version": 3
      },
      "file_extension": ".py",
      "mimetype": "text/x-python",
      "name": "python",
      "nbconvert_exporter": "python",
      "pygments_lexer": "ipython3",
      "version": "3.9.2"
    }
  },
  "nbformat": 4,
  "nbformat_minor": 0
}
