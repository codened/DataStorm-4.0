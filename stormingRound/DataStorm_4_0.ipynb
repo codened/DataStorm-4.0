{
  "nbformat": 4,
  "nbformat_minor": 0,
  "metadata": {
    "colab": {
      "provenance": [],
      "include_colab_link": true
    },
    "kernelspec": {
      "name": "python3",
      "display_name": "Python 3"
    },
    "language_info": {
      "name": "python"
    }
  },
  "cells": [
    {
      "cell_type": "markdown",
      "metadata": {
        "id": "view-in-github",
        "colab_type": "text"
      },
      "source": [
        "<a href=\"https://colab.research.google.com/github/codened/DataStorm-4.0/blob/main/stormingRound/DataStorm_4_0.ipynb\" target=\"_parent\"><img src=\"https://colab.research.google.com/assets/colab-badge.svg\" alt=\"Open In Colab\"/></a>"
      ]
    },
    {
      "cell_type": "markdown",
      "source": [
        "Path \n",
        "stormingRound/DataStorm_4_0.ipynb"
      ],
      "metadata": {
        "id": "kx9iBCyQ2k9z"
      }
    },
    {
      "cell_type": "code",
      "execution_count": null,
      "metadata": {
        "id": "MlOzGijJz-Zf",
        "colab": {
          "base_uri": "https://localhost:8080/"
        },
        "outputId": "3848fa4b-fe91-4418-ee9e-b1c3b68fae52"
      },
      "outputs": [
        {
          "output_type": "stream",
          "name": "stdout",
          "text": [
            "Hi\n"
          ]
        }
      ],
      "source": [
        "print(\"Hi\") "
      ]
    },
    {
      "cell_type": "code",
      "source": [
        "print(\"welcome to hell\")"
      ],
      "metadata": {
        "colab": {
          "base_uri": "https://localhost:8080/"
        },
        "id": "RwTJizxu2-gO",
        "outputId": "635d3d50-2ae1-47dc-f9a0-832784d77e71"
      },
      "execution_count": 1,
      "outputs": [
        {
          "output_type": "stream",
          "name": "stdout",
          "text": [
            "welcome to hell\n"
          ]
        }
      ]
    }
  ]
}