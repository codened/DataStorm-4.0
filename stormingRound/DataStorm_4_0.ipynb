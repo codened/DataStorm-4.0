{
  "cells": [
    {
      "cell_type": "markdown",
      "metadata": {
        "colab_type": "text",
        "id": "view-in-github"
      },
      "source": [
        "<a href=\"https://colab.research.google.com/github/codened/DataStorm-4.0/blob/main/stormingRound/DataStorm_4_0.ipynb\" target=\"_parent\"><img src=\"https://colab.research.google.com/assets/colab-badge.svg\" alt=\"Open In Colab\"/></a>"
      ]
    },
    {
      "cell_type": "markdown",
      "metadata": {
        "id": "kx9iBCyQ2k9z"
      },
      "source": [
        "Path \n",
        "stormingRound/DataStorm_4_0.ipynb"
      ]
    },
    {
      "cell_type": "markdown",
      "metadata": {
        "id": "4wW7bJky-1JT"
      },
      "source": [
        "# Import necessary libraries"
      ]
    },
    {
      "cell_type": "code",
      "execution_count": 1,
      "metadata": {
        "id": "79FVB5FI6Cs2"
      },
      "outputs": [],
      "source": [
        "import numpy as np\n",
        "import pandas as pd\n",
        "from sklearn.cluster import KMeans\n",
        "from sklearn.preprocessing import StandardScaler\n",
        "import plotly.express as px\n",
        "import seaborn as sns\n",
        "import matplotlib.pyplot as plt"
      ]
    },
    {
      "cell_type": "markdown",
      "metadata": {
        "id": "Be7BxsqWn7E7"
      },
      "source": [
        "# Importing Data Sets"
      ]
    },
    {
      "cell_type": "code",
      "execution_count": 2,
      "metadata": {
        "id": "-Oll2JxA5x9Y"
      },
      "outputs": [],
      "source": [
        "rawHisTransDF=pd.read_csv('Historical-transaction-data.csv')\n",
        "rawStoreInfDF=pd.read_csv('Store-info.csv')\n",
        "rawTestDF=pd.read_csv('Testing-data.csv')"
      ]
    },
    {
      "attachments": {},
      "cell_type": "markdown",
      "metadata": {},
      "source": [
        "#### Viewing Dataframe"
      ]
    },
    {
      "cell_type": "code",
      "execution_count": 3,
      "metadata": {
        "id": "UtD8h2FiSA2r"
      },
      "outputs": [
        {
          "data": {
            "text/html": [
              "<div>\n",
              "<style scoped>\n",
              "    .dataframe tbody tr th:only-of-type {\n",
              "        vertical-align: middle;\n",
              "    }\n",
              "\n",
              "    .dataframe tbody tr th {\n",
              "        vertical-align: top;\n",
              "    }\n",
              "\n",
              "    .dataframe thead th {\n",
              "        text-align: right;\n",
              "    }\n",
              "</style>\n",
              "<table border=\"1\" class=\"dataframe\">\n",
              "  <thead>\n",
              "    <tr style=\"text-align: right;\">\n",
              "      <th></th>\n",
              "      <th>item_description</th>\n",
              "      <th>transaction_date</th>\n",
              "      <th>invoice_id</th>\n",
              "      <th>customer_id</th>\n",
              "      <th>shop_id</th>\n",
              "      <th>item_price</th>\n",
              "      <th>quantity_sold</th>\n",
              "    </tr>\n",
              "  </thead>\n",
              "  <tbody>\n",
              "    <tr>\n",
              "      <th>0</th>\n",
              "      <td>ORANGE BARLEY 1.5L</td>\n",
              "      <td>2021-12-11T00:00:00.000Z</td>\n",
              "      <td>147.0</td>\n",
              "      <td>BGXA</td>\n",
              "      <td>SHOP008</td>\n",
              "      <td>220</td>\n",
              "      <td>2</td>\n",
              "    </tr>\n",
              "    <tr>\n",
              "      <th>1</th>\n",
              "      <td>GINGER BEER 1.5L</td>\n",
              "      <td>2021-10-17T00:00:00.000Z</td>\n",
              "      <td>371.0</td>\n",
              "      <td>IA25</td>\n",
              "      <td>SHOP112</td>\n",
              "      <td>220</td>\n",
              "      <td>2</td>\n",
              "    </tr>\n",
              "    <tr>\n",
              "      <th>2</th>\n",
              "      <td>TONIC PET 500ML</td>\n",
              "      <td>2021-12-13T00:00:00.000Z</td>\n",
              "      <td>484.0</td>\n",
              "      <td>VN7V</td>\n",
              "      <td>SHOP008</td>\n",
              "      <td>160</td>\n",
              "      <td>2</td>\n",
              "    </tr>\n",
              "    <tr>\n",
              "      <th>3</th>\n",
              "      <td>CREAM SODA 1L</td>\n",
              "      <td>2021-12-13T00:00:00.000Z</td>\n",
              "      <td>484.0</td>\n",
              "      <td>VN7V</td>\n",
              "      <td>SHOP008</td>\n",
              "      <td>150</td>\n",
              "      <td>2</td>\n",
              "    </tr>\n",
              "    <tr>\n",
              "      <th>4</th>\n",
              "      <td>STRAWBERRY MILK 180ML</td>\n",
              "      <td>2021-10-23T00:00:00.000Z</td>\n",
              "      <td>1310.0</td>\n",
              "      <td>7S00</td>\n",
              "      <td>SHOP112</td>\n",
              "      <td>210</td>\n",
              "      <td>5</td>\n",
              "    </tr>\n",
              "  </tbody>\n",
              "</table>\n",
              "</div>"
            ],
            "text/plain": [
              "        item_description          transaction_date  invoice_id customer_id  \\\n",
              "0     ORANGE BARLEY 1.5L  2021-12-11T00:00:00.000Z       147.0        BGXA   \n",
              "1       GINGER BEER 1.5L  2021-10-17T00:00:00.000Z       371.0        IA25   \n",
              "2        TONIC PET 500ML  2021-12-13T00:00:00.000Z       484.0        VN7V   \n",
              "3          CREAM SODA 1L  2021-12-13T00:00:00.000Z       484.0        VN7V   \n",
              "4  STRAWBERRY MILK 180ML  2021-10-23T00:00:00.000Z      1310.0        7S00   \n",
              "\n",
              "   shop_id  item_price  quantity_sold  \n",
              "0  SHOP008         220              2  \n",
              "1  SHOP112         220              2  \n",
              "2  SHOP008         160              2  \n",
              "3  SHOP008         150              2  \n",
              "4  SHOP112         210              5  "
            ]
          },
          "execution_count": 3,
          "metadata": {},
          "output_type": "execute_result"
        }
      ],
      "source": [
        "rawHisTransDF.head()"
      ]
    },
    {
      "cell_type": "code",
      "execution_count": 4,
      "metadata": {},
      "outputs": [
        {
          "data": {
            "text/html": [
              "<div>\n",
              "<style scoped>\n",
              "    .dataframe tbody tr th:only-of-type {\n",
              "        vertical-align: middle;\n",
              "    }\n",
              "\n",
              "    .dataframe tbody tr th {\n",
              "        vertical-align: top;\n",
              "    }\n",
              "\n",
              "    .dataframe thead th {\n",
              "        text-align: right;\n",
              "    }\n",
              "</style>\n",
              "<table border=\"1\" class=\"dataframe\">\n",
              "  <thead>\n",
              "    <tr style=\"text-align: right;\">\n",
              "      <th></th>\n",
              "      <th>shop_id</th>\n",
              "      <th>shop_area_sq_ft</th>\n",
              "      <th>shop_profile</th>\n",
              "    </tr>\n",
              "  </thead>\n",
              "  <tbody>\n",
              "    <tr>\n",
              "      <th>0</th>\n",
              "      <td>SHOP047</td>\n",
              "      <td>528</td>\n",
              "      <td>Moderate</td>\n",
              "    </tr>\n",
              "    <tr>\n",
              "      <th>1</th>\n",
              "      <td>SHOP009</td>\n",
              "      <td>676</td>\n",
              "      <td>High</td>\n",
              "    </tr>\n",
              "    <tr>\n",
              "      <th>2</th>\n",
              "      <td>SHOP083</td>\n",
              "      <td>676</td>\n",
              "      <td>Low</td>\n",
              "    </tr>\n",
              "    <tr>\n",
              "      <th>3</th>\n",
              "      <td>SHOP117</td>\n",
              "      <td>676</td>\n",
              "      <td>Low</td>\n",
              "    </tr>\n",
              "    <tr>\n",
              "      <th>4</th>\n",
              "      <td>SHOP042</td>\n",
              "      <td>676</td>\n",
              "      <td>Low</td>\n",
              "    </tr>\n",
              "  </tbody>\n",
              "</table>\n",
              "</div>"
            ],
            "text/plain": [
              "   shop_id  shop_area_sq_ft shop_profile\n",
              "0  SHOP047              528     Moderate\n",
              "1  SHOP009              676         High\n",
              "2  SHOP083              676          Low\n",
              "3  SHOP117              676          Low\n",
              "4  SHOP042              676          Low"
            ]
          },
          "execution_count": 4,
          "metadata": {},
          "output_type": "execute_result"
        }
      ],
      "source": [
        "rawStoreInfDF.head()"
      ]
    },
    {
      "attachments": {},
      "cell_type": "markdown",
      "metadata": {},
      "source": [
        "# Data Pre Processing"
      ]
    },
    {
      "attachments": {},
      "cell_type": "markdown",
      "metadata": {},
      "source": [
        "### Fixing Data"
      ]
    },
    {
      "cell_type": "code",
      "execution_count": 5,
      "metadata": {
        "id": "bnrCJ0o-Sb8v"
      },
      "outputs": [],
      "source": [
        "# convert the date string column to datetime\n",
        "rawHisTransDF['transaction_date'] = pd.to_datetime(rawHisTransDF['transaction_date'], format='%Y/%m/%d').dt.date"
      ]
    },
    {
      "cell_type": "code",
      "execution_count": 6,
      "metadata": {
        "id": "ZFqYaVSyjoBH"
      },
      "outputs": [],
      "source": [
        "# Performing left join\n",
        "merged_df = pd.merge(rawHisTransDF, rawStoreInfDF, on='shop_id', how='left')"
      ]
    },
    {
      "cell_type": "code",
      "execution_count": 7,
      "metadata": {
        "colab": {
          "base_uri": "https://localhost:8080/",
          "height": 483
        },
        "id": "Rb8HF5A2S9eg",
        "outputId": "498e142e-dc75-4bf8-f90a-fb5b8af35d0d"
      },
      "outputs": [
        {
          "data": {
            "text/html": [
              "<div>\n",
              "<style scoped>\n",
              "    .dataframe tbody tr th:only-of-type {\n",
              "        vertical-align: middle;\n",
              "    }\n",
              "\n",
              "    .dataframe tbody tr th {\n",
              "        vertical-align: top;\n",
              "    }\n",
              "\n",
              "    .dataframe thead th {\n",
              "        text-align: right;\n",
              "    }\n",
              "</style>\n",
              "<table border=\"1\" class=\"dataframe\">\n",
              "  <thead>\n",
              "    <tr style=\"text-align: right;\">\n",
              "      <th></th>\n",
              "      <th>count</th>\n",
              "      <th>unique</th>\n",
              "      <th>top</th>\n",
              "      <th>freq</th>\n",
              "      <th>mean</th>\n",
              "      <th>std</th>\n",
              "      <th>min</th>\n",
              "      <th>25%</th>\n",
              "      <th>50%</th>\n",
              "      <th>75%</th>\n",
              "      <th>max</th>\n",
              "    </tr>\n",
              "  </thead>\n",
              "  <tbody>\n",
              "    <tr>\n",
              "      <th>item_description</th>\n",
              "      <td>438046</td>\n",
              "      <td>37</td>\n",
              "      <td>GINGER BEER 1.5L</td>\n",
              "      <td>59864</td>\n",
              "      <td>NaN</td>\n",
              "      <td>NaN</td>\n",
              "      <td>NaN</td>\n",
              "      <td>NaN</td>\n",
              "      <td>NaN</td>\n",
              "      <td>NaN</td>\n",
              "      <td>NaN</td>\n",
              "    </tr>\n",
              "    <tr>\n",
              "      <th>transaction_date</th>\n",
              "      <td>473974</td>\n",
              "      <td>62</td>\n",
              "      <td>2021-12-11</td>\n",
              "      <td>15125</td>\n",
              "      <td>NaN</td>\n",
              "      <td>NaN</td>\n",
              "      <td>NaN</td>\n",
              "      <td>NaN</td>\n",
              "      <td>NaN</td>\n",
              "      <td>NaN</td>\n",
              "      <td>NaN</td>\n",
              "    </tr>\n",
              "    <tr>\n",
              "      <th>invoice_id</th>\n",
              "      <td>467654.0</td>\n",
              "      <td>NaN</td>\n",
              "      <td>NaN</td>\n",
              "      <td>NaN</td>\n",
              "      <td>1996684.006321</td>\n",
              "      <td>1344594.276666</td>\n",
              "      <td>17.0</td>\n",
              "      <td>1032113.75</td>\n",
              "      <td>2032996.0</td>\n",
              "      <td>3032568.25</td>\n",
              "      <td>8331754.0</td>\n",
              "    </tr>\n",
              "    <tr>\n",
              "      <th>customer_id</th>\n",
              "      <td>473974</td>\n",
              "      <td>191636</td>\n",
              "      <td>RX33</td>\n",
              "      <td>95</td>\n",
              "      <td>NaN</td>\n",
              "      <td>NaN</td>\n",
              "      <td>NaN</td>\n",
              "      <td>NaN</td>\n",
              "      <td>NaN</td>\n",
              "      <td>NaN</td>\n",
              "      <td>NaN</td>\n",
              "    </tr>\n",
              "    <tr>\n",
              "      <th>shop_id</th>\n",
              "      <td>473974</td>\n",
              "      <td>124</td>\n",
              "      <td>SHOP043</td>\n",
              "      <td>6631</td>\n",
              "      <td>NaN</td>\n",
              "      <td>NaN</td>\n",
              "      <td>NaN</td>\n",
              "      <td>NaN</td>\n",
              "      <td>NaN</td>\n",
              "      <td>NaN</td>\n",
              "      <td>NaN</td>\n",
              "    </tr>\n",
              "    <tr>\n",
              "      <th>item_price</th>\n",
              "      <td>473974.0</td>\n",
              "      <td>NaN</td>\n",
              "      <td>NaN</td>\n",
              "      <td>NaN</td>\n",
              "      <td>206.689734</td>\n",
              "      <td>166.764732</td>\n",
              "      <td>35.0</td>\n",
              "      <td>100.0</td>\n",
              "      <td>200.0</td>\n",
              "      <td>220.0</td>\n",
              "      <td>17400.0</td>\n",
              "    </tr>\n",
              "    <tr>\n",
              "      <th>quantity_sold</th>\n",
              "      <td>473974.0</td>\n",
              "      <td>NaN</td>\n",
              "      <td>NaN</td>\n",
              "      <td>NaN</td>\n",
              "      <td>1.925506</td>\n",
              "      <td>1.634535</td>\n",
              "      <td>-1.0</td>\n",
              "      <td>1.0</td>\n",
              "      <td>2.0</td>\n",
              "      <td>2.0</td>\n",
              "      <td>101.0</td>\n",
              "    </tr>\n",
              "  </tbody>\n",
              "</table>\n",
              "</div>"
            ],
            "text/plain": [
              "                     count  unique               top   freq            mean  \\\n",
              "item_description    438046      37  GINGER BEER 1.5L  59864             NaN   \n",
              "transaction_date    473974      62        2021-12-11  15125             NaN   \n",
              "invoice_id        467654.0     NaN               NaN    NaN  1996684.006321   \n",
              "customer_id         473974  191636              RX33     95             NaN   \n",
              "shop_id             473974     124           SHOP043   6631             NaN   \n",
              "item_price        473974.0     NaN               NaN    NaN      206.689734   \n",
              "quantity_sold     473974.0     NaN               NaN    NaN        1.925506   \n",
              "\n",
              "                             std   min         25%        50%         75%  \\\n",
              "item_description             NaN   NaN         NaN        NaN         NaN   \n",
              "transaction_date             NaN   NaN         NaN        NaN         NaN   \n",
              "invoice_id        1344594.276666  17.0  1032113.75  2032996.0  3032568.25   \n",
              "customer_id                  NaN   NaN         NaN        NaN         NaN   \n",
              "shop_id                      NaN   NaN         NaN        NaN         NaN   \n",
              "item_price            166.764732  35.0       100.0      200.0       220.0   \n",
              "quantity_sold           1.634535  -1.0         1.0        2.0         2.0   \n",
              "\n",
              "                        max  \n",
              "item_description        NaN  \n",
              "transaction_date        NaN  \n",
              "invoice_id        8331754.0  \n",
              "customer_id             NaN  \n",
              "shop_id                 NaN  \n",
              "item_price          17400.0  \n",
              "quantity_sold         101.0  "
            ]
          },
          "execution_count": 7,
          "metadata": {},
          "output_type": "execute_result"
        }
      ],
      "source": [
        "rawHisTransDF.describe(include='all').T"
      ]
    },
    {
      "cell_type": "code",
      "execution_count": 9,
      "metadata": {},
      "outputs": [
        {
          "name": "stdout",
          "output_type": "stream",
          "text": [
            "item_description    35928\n",
            "transaction_date        0\n",
            "invoice_id           6320\n",
            "customer_id             0\n",
            "shop_id                 0\n",
            "item_price              0\n",
            "quantity_sold           0\n",
            "shop_area_sq_ft         0\n",
            "shop_profile        86633\n",
            "dtype: int64\n"
          ]
        }
      ],
      "source": [
        "# get count of null values in each column\n",
        "null_counts = merged_df.isnull().sum()\n",
        "# print the counts\n",
        "print(null_counts)"
      ]
    },
    {
      "cell_type": "code",
      "execution_count": 10,
      "metadata": {},
      "outputs": [],
      "source": [
        "merged_df.dropna(subset=['item_description','invoice_id'], inplace=True)"
      ]
    },
    {
      "cell_type": "code",
      "execution_count": 11,
      "metadata": {},
      "outputs": [
        {
          "name": "stdout",
          "output_type": "stream",
          "text": [
            "item_description        0\n",
            "transaction_date        0\n",
            "invoice_id              0\n",
            "customer_id             0\n",
            "shop_id                 0\n",
            "item_price              0\n",
            "quantity_sold           0\n",
            "shop_area_sq_ft         0\n",
            "shop_profile        79471\n",
            "dtype: int64\n"
          ]
        }
      ],
      "source": [
        "# get count of null values in each column\n",
        "null_counts = merged_df.isnull().sum()\n",
        "# print the counts\n",
        "print(null_counts)"
      ]
    },
    {
      "attachments": {},
      "cell_type": "markdown",
      "metadata": {},
      "source": [
        "### Encoding "
      ]
    },
    {
      "cell_type": "code",
      "execution_count": 12,
      "metadata": {},
      "outputs": [],
      "source": [
        "from sklearn.preprocessing import LabelEncoder\n",
        "\n",
        "le = LabelEncoder()\n",
        "merged_df['item_description'] = le.fit_transform(merged_df['item_description'])\n",
        "merged_df['customer_id'] = le.fit_transform(merged_df['customer_id'])"
      ]
    },
    {
      "cell_type": "code",
      "execution_count": 14,
      "metadata": {},
      "outputs": [
        {
          "name": "stderr",
          "output_type": "stream",
          "text": [
            "C:\\Users\\gw\\AppData\\Local\\Temp\\ipykernel_17096\\2624828608.py:1: FutureWarning: The default value of regex will change from True to False in a future version.\n",
            "  merged_df['shop_id'] = merged_df['shop_id'].str.replace(r'^SHOP', '').astype(int)\n"
          ]
        }
      ],
      "source": [
        "merged_df['shop_id'] = merged_df['shop_id'].str.replace(r'^SHOP', '').astype(int)"
      ]
    },
    {
      "cell_type": "code",
      "execution_count": 19,
      "metadata": {},
      "outputs": [],
      "source": [
        "merged_df['shop_profile'] = merged_df['shop_profile'].replace({'High': 1, 'Moderate': 2, 'Low': 3})"
      ]
    },
    {
      "cell_type": "code",
      "execution_count": 22,
      "metadata": {},
      "outputs": [],
      "source": [
        "merged_df['shop_profile'] = merged_df['shop_profile'].fillna(0.0).astype(int)"
      ]
    },
    {
      "cell_type": "code",
      "execution_count": 23,
      "metadata": {},
      "outputs": [
        {
          "data": {
            "text/html": [
              "<div>\n",
              "<style scoped>\n",
              "    .dataframe tbody tr th:only-of-type {\n",
              "        vertical-align: middle;\n",
              "    }\n",
              "\n",
              "    .dataframe tbody tr th {\n",
              "        vertical-align: top;\n",
              "    }\n",
              "\n",
              "    .dataframe thead th {\n",
              "        text-align: right;\n",
              "    }\n",
              "</style>\n",
              "<table border=\"1\" class=\"dataframe\">\n",
              "  <thead>\n",
              "    <tr style=\"text-align: right;\">\n",
              "      <th></th>\n",
              "      <th>item_description</th>\n",
              "      <th>transaction_date</th>\n",
              "      <th>invoice_id</th>\n",
              "      <th>customer_id</th>\n",
              "      <th>shop_id</th>\n",
              "      <th>item_price</th>\n",
              "      <th>quantity_sold</th>\n",
              "      <th>shop_area_sq_ft</th>\n",
              "      <th>shop_profile</th>\n",
              "    </tr>\n",
              "  </thead>\n",
              "  <tbody>\n",
              "    <tr>\n",
              "      <th>0</th>\n",
              "      <td>27</td>\n",
              "      <td>2021-12-11</td>\n",
              "      <td>147.0</td>\n",
              "      <td>57272</td>\n",
              "      <td>8</td>\n",
              "      <td>220</td>\n",
              "      <td>2</td>\n",
              "      <td>678</td>\n",
              "      <td>2</td>\n",
              "    </tr>\n",
              "    <tr>\n",
              "      <th>1</th>\n",
              "      <td>14</td>\n",
              "      <td>2021-10-17</td>\n",
              "      <td>371.0</td>\n",
              "      <td>91334</td>\n",
              "      <td>112</td>\n",
              "      <td>220</td>\n",
              "      <td>2</td>\n",
              "      <td>668</td>\n",
              "      <td>2</td>\n",
              "    </tr>\n",
              "    <tr>\n",
              "      <th>2</th>\n",
              "      <td>35</td>\n",
              "      <td>2021-12-13</td>\n",
              "      <td>484.0</td>\n",
              "      <td>158179</td>\n",
              "      <td>8</td>\n",
              "      <td>160</td>\n",
              "      <td>2</td>\n",
              "      <td>678</td>\n",
              "      <td>2</td>\n",
              "    </tr>\n",
              "    <tr>\n",
              "      <th>3</th>\n",
              "      <td>4</td>\n",
              "      <td>2021-12-13</td>\n",
              "      <td>484.0</td>\n",
              "      <td>158179</td>\n",
              "      <td>8</td>\n",
              "      <td>150</td>\n",
              "      <td>2</td>\n",
              "      <td>678</td>\n",
              "      <td>2</td>\n",
              "    </tr>\n",
              "    <tr>\n",
              "      <th>4</th>\n",
              "      <td>34</td>\n",
              "      <td>2021-10-23</td>\n",
              "      <td>1310.0</td>\n",
              "      <td>38862</td>\n",
              "      <td>112</td>\n",
              "      <td>210</td>\n",
              "      <td>5</td>\n",
              "      <td>668</td>\n",
              "      <td>2</td>\n",
              "    </tr>\n",
              "    <tr>\n",
              "      <th>...</th>\n",
              "      <td>...</td>\n",
              "      <td>...</td>\n",
              "      <td>...</td>\n",
              "      <td>...</td>\n",
              "      <td>...</td>\n",
              "      <td>...</td>\n",
              "      <td>...</td>\n",
              "      <td>...</td>\n",
              "      <td>...</td>\n",
              "    </tr>\n",
              "    <tr>\n",
              "      <th>473820</th>\n",
              "      <td>13</td>\n",
              "      <td>2021-11-14</td>\n",
              "      <td>8014206.0</td>\n",
              "      <td>176899</td>\n",
              "      <td>3</td>\n",
              "      <td>60</td>\n",
              "      <td>2</td>\n",
              "      <td>810</td>\n",
              "      <td>1</td>\n",
              "    </tr>\n",
              "    <tr>\n",
              "      <th>473821</th>\n",
              "      <td>1</td>\n",
              "      <td>2021-10-16</td>\n",
              "      <td>8304754.0</td>\n",
              "      <td>52159</td>\n",
              "      <td>127</td>\n",
              "      <td>35</td>\n",
              "      <td>2</td>\n",
              "      <td>848</td>\n",
              "      <td>1</td>\n",
              "    </tr>\n",
              "    <tr>\n",
              "      <th>473822</th>\n",
              "      <td>14</td>\n",
              "      <td>2021-10-16</td>\n",
              "      <td>8304807.0</td>\n",
              "      <td>95280</td>\n",
              "      <td>127</td>\n",
              "      <td>220</td>\n",
              "      <td>1</td>\n",
              "      <td>848</td>\n",
              "      <td>1</td>\n",
              "    </tr>\n",
              "    <tr>\n",
              "      <th>473823</th>\n",
              "      <td>1</td>\n",
              "      <td>2021-11-07</td>\n",
              "      <td>8313570.0</td>\n",
              "      <td>8748</td>\n",
              "      <td>127</td>\n",
              "      <td>35</td>\n",
              "      <td>1</td>\n",
              "      <td>848</td>\n",
              "      <td>1</td>\n",
              "    </tr>\n",
              "    <tr>\n",
              "      <th>473824</th>\n",
              "      <td>3</td>\n",
              "      <td>2021-12-02</td>\n",
              "      <td>8325631.0</td>\n",
              "      <td>11566</td>\n",
              "      <td>127</td>\n",
              "      <td>220</td>\n",
              "      <td>2</td>\n",
              "      <td>848</td>\n",
              "      <td>1</td>\n",
              "    </tr>\n",
              "  </tbody>\n",
              "</table>\n",
              "<p>432109 rows × 9 columns</p>\n",
              "</div>"
            ],
            "text/plain": [
              "        item_description transaction_date  invoice_id  customer_id  shop_id  \\\n",
              "0                     27       2021-12-11       147.0        57272        8   \n",
              "1                     14       2021-10-17       371.0        91334      112   \n",
              "2                     35       2021-12-13       484.0       158179        8   \n",
              "3                      4       2021-12-13       484.0       158179        8   \n",
              "4                     34       2021-10-23      1310.0        38862      112   \n",
              "...                  ...              ...         ...          ...      ...   \n",
              "473820                13       2021-11-14   8014206.0       176899        3   \n",
              "473821                 1       2021-10-16   8304754.0        52159      127   \n",
              "473822                14       2021-10-16   8304807.0        95280      127   \n",
              "473823                 1       2021-11-07   8313570.0         8748      127   \n",
              "473824                 3       2021-12-02   8325631.0        11566      127   \n",
              "\n",
              "        item_price  quantity_sold  shop_area_sq_ft  shop_profile  \n",
              "0              220              2              678             2  \n",
              "1              220              2              668             2  \n",
              "2              160              2              678             2  \n",
              "3              150              2              678             2  \n",
              "4              210              5              668             2  \n",
              "...            ...            ...              ...           ...  \n",
              "473820          60              2              810             1  \n",
              "473821          35              2              848             1  \n",
              "473822         220              1              848             1  \n",
              "473823          35              1              848             1  \n",
              "473824         220              2              848             1  \n",
              "\n",
              "[432109 rows x 9 columns]"
            ]
          },
          "execution_count": 23,
          "metadata": {},
          "output_type": "execute_result"
        }
      ],
      "source": [
        "merged_df\n"
      ]
    }
  ],
  "metadata": {
    "colab": {
      "include_colab_link": true,
      "provenance": []
    },
    "kernelspec": {
      "display_name": "Python 3",
      "name": "python3"
    },
    "language_info": {
      "codemirror_mode": {
        "name": "ipython",
        "version": 3
      },
      "file_extension": ".py",
      "mimetype": "text/x-python",
      "name": "python",
      "nbconvert_exporter": "python",
      "pygments_lexer": "ipython3",
      "version": "3.10.8"
    }
  },
  "nbformat": 4,
  "nbformat_minor": 0
}
